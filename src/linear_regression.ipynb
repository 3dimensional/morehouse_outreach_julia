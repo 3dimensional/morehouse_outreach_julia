{
 "cells": [
  {
   "cell_type": "markdown",
   "metadata": {
    "deletable": false,
    "editable": false,
    "nbgrader": {
     "cell_type": "markdown",
     "checksum": "7aae1c640c508c1e900fc8476e28323c",
     "grade": false,
     "grade_id": "cell-42df9f51415be180",
     "locked": true,
     "schema_version": 3,
     "solution": false,
     "task": false
    }
   },
   "source": [
    "Derived from ROB 101: Computational Linear Algebra\n",
    "# Filters and Image Analysis\n",
    "#### Purpose:  Use filters to analyse and denoise images\n",
    "\n",
    "- Outline:\n",
    "    - What is a filter?\n",
    "        - One-Dimensional Filters \n",
    "        - Exercise 1: Playing with Filters\n",
    "    - Image Analysis\n",
    "        - What is noise?\n",
    "        - Two-Dimensional Filters\n",
    "        - Exercise 2: Image Filtration (maybe with custom images)\n",
    "\n",
    "\n",
    "- Maybe better for another time:\n",
    "    - Other Types of Filters\n",
    "        - High Pass Filters\n",
    "        - Exercise 3: Isolating Noise\n",
    "    - Applications of Filtering\n",
    "\n"
   ]
  },
  {
   "cell_type": "code",
   "execution_count": null,
   "metadata": {},
   "outputs": [],
   "source": [
    "#Let's suppose that we have a pattern of numbers, like 1 -1 1 -1 1.\n",
    "#We can shove this pattern into a vector to make it easy to analyse. \n",
    "p = [1, -1, 1, -1, 1]"
   ]
  },
  {
   "cell_type": "markdown",
   "metadata": {
    "deletable": false,
    "editable": false,
    "nbgrader": {
     "cell_type": "markdown",
     "checksum": "faa88db86b64e1b2492ea51ee756ad49",
     "grade": false,
     "grade_id": "cell-47de29a639e5f315",
     "locked": true,
     "schema_version": 3,
     "solution": false,
     "task": false
    }
   },
   "source": []
  },
  {
   "cell_type": "code",
   "execution_count": null,
   "metadata": {},
   "outputs": [],
   "source": []
  },
  {
   "cell_type": "code",
   "execution_count": null,
   "metadata": {},
   "outputs": [],
   "source": []
  },
  {
   "cell_type": "code",
   "execution_count": null,
   "metadata": {
    "deletable": false,
    "editable": false,
    "nbgrader": {
     "cell_type": "code",
     "checksum": "70747466541e980a4559c4f4abb4925d",
     "grade": true,
     "grade_id": "problem1test",
     "locked": true,
     "points": 5,
     "schema_version": 3,
     "solution": false,
     "task": false
    }
   },
   "outputs": [],
   "source": []
  },
  {
   "cell_type": "markdown",
   "metadata": {
    "deletable": false,
    "editable": false,
    "nbgrader": {
     "cell_type": "markdown",
     "checksum": "848876c67a4fa7b26eb5617b67dd0a44",
     "grade": false,
     "grade_id": "cell-e700f01bf29416a2",
     "locked": true,
     "schema_version": 3,
     "solution": false,
     "task": false
    }
   },
   "source": []
  },
  {
   "cell_type": "code",
   "execution_count": null,
   "metadata": {
    "deletable": false,
    "editable": false,
    "nbgrader": {
     "cell_type": "code",
     "checksum": "7b92ebf94659f47d1fed4b767662badd",
     "grade": false,
     "grade_id": "cell-c956c50b93815794",
     "locked": true,
     "schema_version": 3,
     "solution": false,
     "task": false
    }
   },
   "outputs": [],
   "source": []
  },
  {
   "cell_type": "code",
   "execution_count": null,
   "metadata": {
    "deletable": false,
    "editable": false,
    "nbgrader": {
     "cell_type": "code",
     "checksum": "2c41ded914a9b5baa8601c9e784441b9",
     "grade": false,
     "grade_id": "cell-202ddea9fa3b84e7",
     "locked": true,
     "schema_version": 3,
     "solution": false,
     "task": false
    }
   },
   "outputs": [],
   "source": []
  },
  {
   "cell_type": "code",
   "execution_count": null,
   "metadata": {
    "deletable": false,
    "editable": false,
    "nbgrader": {
     "cell_type": "code",
     "checksum": "fc0e6aef485da6318b27167cc054929d",
     "grade": false,
     "grade_id": "cell-fe6b0151ea814f70",
     "locked": true,
     "schema_version": 3,
     "solution": false,
     "task": false
    }
   },
   "outputs": [],
   "source": []
  },
  {
   "cell_type": "markdown",
   "metadata": {
    "deletable": false,
    "editable": false,
    "nbgrader": {
     "cell_type": "markdown",
     "checksum": "99a5699ac0c47b54498a981c534d3b35",
     "grade": false,
     "grade_id": "cell-339b058b2acfbcad",
     "locked": true,
     "schema_version": 3,
     "solution": false,
     "task": false
    }
   },
   "source": []
  },
  {
   "cell_type": "markdown",
   "metadata": {
    "deletable": false,
    "editable": false,
    "nbgrader": {
     "cell_type": "markdown",
     "checksum": "fcc7852cf0889b68894276add6776a52",
     "grade": false,
     "grade_id": "cell-84ec179c1fa584c3",
     "locked": true,
     "schema_version": 3,
     "solution": false,
     "task": false
    }
   },
   "source": []
  },
  {
   "cell_type": "code",
   "execution_count": null,
   "metadata": {},
   "outputs": [],
   "source": []
  },
  {
   "cell_type": "markdown",
   "metadata": {
    "deletable": false,
    "editable": false,
    "nbgrader": {
     "cell_type": "markdown",
     "checksum": "522b33b103c8a60c9f0464e68f6161ea",
     "grade": false,
     "grade_id": "cell-554847fe6f346f7d",
     "locked": true,
     "schema_version": 3,
     "solution": false,
     "task": false
    }
   },
   "source": []
  },
  {
   "cell_type": "code",
   "execution_count": null,
   "metadata": {
    "deletable": false,
    "editable": false,
    "nbgrader": {
     "cell_type": "code",
     "checksum": "7cc9b2edf24e24fbe16c03d30498c3ca",
     "grade": false,
     "grade_id": "cell-dd48daa9716b336c",
     "locked": true,
     "schema_version": 3,
     "solution": false,
     "task": false
    }
   },
   "outputs": [],
   "source": []
  },
  {
   "cell_type": "code",
   "execution_count": null,
   "metadata": {},
   "outputs": [],
   "source": []
  },
  {
   "cell_type": "markdown",
   "metadata": {
    "deletable": false,
    "editable": false,
    "nbgrader": {
     "cell_type": "markdown",
     "checksum": "eddc9ac9f258b9ca32a824076139cbce",
     "grade": false,
     "grade_id": "cell-e5f55ebcb0af4820",
     "locked": true,
     "schema_version": 3,
     "solution": false,
     "task": false
    }
   },
   "source": []
  },
  {
   "cell_type": "code",
   "execution_count": null,
   "metadata": {},
   "outputs": [],
   "source": []
  },
  {
   "cell_type": "markdown",
   "metadata": {
    "deletable": false,
    "editable": false,
    "nbgrader": {
     "cell_type": "markdown",
     "checksum": "88aedb46efb07b9aea84def714ced15e",
     "grade": false,
     "grade_id": "cell-9f1a99a3704a6484",
     "locked": true,
     "schema_version": 3,
     "solution": false,
     "task": false
    }
   },
   "source": []
  },
  {
   "cell_type": "code",
   "execution_count": null,
   "metadata": {
    "deletable": false,
    "nbgrader": {
     "cell_type": "code",
     "checksum": "96d37de74b57efeaab99eaf498bcba3b",
     "grade": false,
     "grade_id": "problem2",
     "locked": false,
     "schema_version": 3,
     "solution": true,
     "task": false
    }
   },
   "outputs": [],
   "source": []
  },
  {
   "cell_type": "code",
   "execution_count": null,
   "metadata": {
    "deletable": false,
    "editable": false,
    "nbgrader": {
     "cell_type": "code",
     "checksum": "3cfbac9d48589a23d13cc73ab12780f4",
     "grade": true,
     "grade_id": "problem2test",
     "locked": true,
     "points": 5,
     "schema_version": 3,
     "solution": false,
     "task": false
    }
   },
   "outputs": [],
   "source": []
  },
  {
   "cell_type": "markdown",
   "metadata": {
    "deletable": false,
    "editable": false,
    "nbgrader": {
     "cell_type": "markdown",
     "checksum": "fc0e17f22fa7dc8690c150ef7872c7bd",
     "grade": false,
     "grade_id": "cell-f143e1884da392e8",
     "locked": true,
     "schema_version": 3,
     "solution": false,
     "task": false
    }
   },
   "source": []
  }
 ],
 "metadata": {
  "kernelspec": {
   "display_name": "Julia 1.4.1",
   "language": "julia",
   "name": "julia-1.4"
  },
  "language_info": {
   "file_extension": ".jl",
   "mimetype": "application/julia",
   "name": "julia",
   "version": "1.5.0"
  }
 },
 "nbformat": 4,
 "nbformat_minor": 4
}