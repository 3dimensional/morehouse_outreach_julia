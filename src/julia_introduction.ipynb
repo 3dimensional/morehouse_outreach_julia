{
 "cells": [
  {
   "cell_type": "markdown",
   "metadata": {
    "deletable": false,
    "editable": false,
    "nbgrader": {
     "cell_type": "markdown",
     "checksum": "e1219b4f78c155605f762d99604b3f84",
     "grade": false,
     "grade_id": "cell-cce1441e92a92e59",
     "locked": true,
     "schema_version": 3,
     "solution": false,
     "task": false
    }
   },
   "source": [
    "Derived from University of Michigan - ROB 101 Computational Linear Algebra\n"
   ]
  },
  {
   "cell_type": "markdown",
   "metadata": {
    "deletable": false,
    "editable": false,
    "nbgrader": {
     "cell_type": "markdown",
     "checksum": "7aae1c640c508c1e900fc8476e28323c",
     "grade": false,
     "grade_id": "cell-42df9f51415be180",
     "locked": true,
     "schema_version": 3,
     "solution": false,
     "task": false
    }
   },
   "source": [
    "# Calculation, Matrices, and Graphing with Julia\n",
    "\n",
    "#### Purpose:  Use Julia Programming to solve mathematical problems\n",
    "- Outline:\n",
    "    - Calculaton with Julia\n",
    "        - Codeblocks and Operators\n",
    "        - Functions for Computation and Display\n",
    "    - Data Manipulation with Julia\n",
    "        - Variables\n",
    "        - Vectors\n",
    "        - Matrices\n",
    "        - Custom Functions\n",
    "    - Graphing with Julia\n",
    "        - Graphing Vectors\n",
    "        - Graphing Functions\n",
    "\n",
    "\n",
    "Julia is a programming language which allows users to input a series of commands, typically one on each line, to perform any number of tasks typically involving data manipulation.\n",
    "These assignments are presented as Jupyter notebooks: running a code block executes each non-comment line in the block."
   ]
  },
  {
   "cell_type": "code",
   "execution_count": 2,
   "metadata": {},
   "outputs": [
    {
     "data": {
      "text/plain": [
       "11"
      ]
     },
     "execution_count": 2,
     "metadata": {},
     "output_type": "execute_result"
    }
   ],
   "source": [
    "#you can edit this code block by clicking into it\n",
    "#pressing SHIFT+ENTER runs the block\n",
    "#running a code cell will display the result from the last line\n",
    "\n",
    "#hashtags are comments, and anything following a hashtag will not be run.\n",
    "\n",
    "4+7"
   ]
  },
  {
   "cell_type": "code",
   "execution_count": 3,
   "metadata": {
    "deletable": false,
    "editable": false,
    "nbgrader": {
     "cell_type": "code",
     "checksum": "70747466541e980a4559c4f4abb4925d",
     "grade": true,
     "grade_id": "problem1test",
     "locked": true,
     "points": 5,
     "schema_version": 3,
     "solution": false,
     "task": false
    }
   },
   "outputs": [
    {
     "data": {
      "text/plain": [
       "false"
      ]
     },
     "execution_count": 3,
     "metadata": {},
     "output_type": "execute_result"
    }
   ],
   "source": [
    "#other results are NOT displayed\n",
    "5 * 6\n",
    "6 / 3\n",
    "4 == 2 #this operator returns true when both sides are equal \n"
   ]
  },
  {
   "cell_type": "code",
   "execution_count": 4,
   "metadata": {},
   "outputs": [
    {
     "data": {
      "text/plain": [
       "false"
      ]
     },
     "execution_count": 4,
     "metadata": {},
     "output_type": "execute_result"
    }
   ],
   "source": [
    "#Julia performs arithmetic operations in PEMDAS order:\n",
    "#Parentheses, Exponentiation, Multiplication, Division, Addition, Subtraction\n",
    "\n",
    "#TODO: Add parentheses to make this line return true\n",
    "50 == 4 + 5 / 2 + 3 + 2 ^ 2 + 1\n"
   ]
  },
  {
   "cell_type": "code",
   "execution_count": 5,
   "metadata": {
    "deletable": false,
    "editable": false,
    "nbgrader": {
     "cell_type": "code",
     "checksum": "2c41ded914a9b5baa8601c9e784441b9",
     "grade": false,
     "grade_id": "cell-202ddea9fa3b84e7",
     "locked": true,
     "schema_version": 3,
     "solution": false,
     "task": false
    }
   },
   "outputs": [
    {
     "data": {
      "text/plain": [
       "5"
      ]
     },
     "execution_count": 5,
     "metadata": {},
     "output_type": "execute_result"
    }
   ],
   "source": [
    "#operators are all actually functions in disguise!\n",
    "\n",
    "+(2,3)\n",
    "\n",
    "#still probably better to use 2 + 3 for readability"
   ]
  },
  {
   "cell_type": "markdown",
   "metadata": {
    "deletable": false,
    "editable": false,
    "nbgrader": {
     "cell_type": "markdown",
     "checksum": "848876c67a4fa7b26eb5617b67dd0a44",
     "grade": false,
     "grade_id": "cell-e700f01bf29416a2",
     "locked": true,
     "schema_version": 3,
     "solution": false,
     "task": false
    }
   },
   "source": [
    "**Julia has many other built in functions.**\n",
    "\n",
    "- round() #rounds to nearest integer\n",
    "- ceil() #rounds up\n",
    "- floor() #rounds down\n",
    "- trunc() #chops off anything beyond decimal point\n",
    "- abs() #absolute value\n",
    "- sin(), cos(), tan()  and asin(), acos(), atan()  #many more trigonometric functions\n",
    "- sqrt() #square root\n",
    "- exp()  #natural exponential e^x\n",
    "- log() #natural logarithm\n",
    "- %() #remainder after division\n",
    "\n",
    "\n",
    "and so many more: https://docs.julialang.org/en/v1/manual/mathematical-operations/\n"
   ]
  },
  {
   "cell_type": "code",
   "execution_count": 6,
   "metadata": {},
   "outputs": [
    {
     "data": {
      "text/plain": [
       "1"
      ]
     },
     "execution_count": 6,
     "metadata": {},
     "output_type": "execute_result"
    }
   ],
   "source": [
    "#the modulo function calculates remainder after division\n",
    "#\n",
    "#you can also call it like an operator for ease of use\n",
    "10 % 3"
   ]
  },
  {
   "cell_type": "code",
   "execution_count": 7,
   "metadata": {
    "deletable": false,
    "editable": false,
    "nbgrader": {
     "cell_type": "code",
     "checksum": "7b92ebf94659f47d1fed4b767662badd",
     "grade": false,
     "grade_id": "cell-c956c50b93815794",
     "locked": true,
     "schema_version": 3,
     "solution": false,
     "task": false
    }
   },
   "outputs": [
    {
     "name": "stdout",
     "output_type": "stream",
     "text": [
      "30\n",
      "2.0\n"
     ]
    },
    {
     "data": {
      "text/plain": [
       "16"
      ]
     },
     "execution_count": 7,
     "metadata": {},
     "output_type": "execute_result"
    }
   ],
   "source": [
    "#display and utility functions are also available\n",
    "#to print multiple lines while running code, use println()\n",
    "println(5 * 6)\n",
    "println(6 / 3)\n",
    "4 ^ 2 #we don't need a println call here because the last line is automatically shown\n",
    "\n",
    "#...but julia adds a blank line before that output,\n",
    "#so it is probably best to call println() regardless to make stuff l\n"
   ]
  },
  {
   "cell_type": "code",
   "execution_count": 2,
   "metadata": {},
   "outputs": [
    {
     "name": "stdout",
     "output_type": "stream",
     "text": [
      "true\n"
     ]
    },
    {
     "data": {
      "text/plain": [
       "1.2246467991473532e-16"
      ]
     },
     "execution_count": 2,
     "metadata": {},
     "output_type": "execute_result"
    }
   ],
   "source": [
    "#Greek letters are supported in Julia! they're a bit annoying to type, though...\n",
    "#in julia, pi = π = 3.14159...... by default.\n",
    "println(pi == π)\n",
    "\n",
    "#trigonometric functions use radians.\n",
    "sin(π)\n",
    "#because the computer can't store data with perfect precision, this will return a number which is very close to 0.\n",
    "#that \"e-16\" is scientific notation for \" * 10^(-16)\"\n",
    "#so the absolute value of this number is around .00000000000000001. "
   ]
  },
  {
   "cell_type": "code",
   "execution_count": null,
   "metadata": {},
   "outputs": [],
   "source": [
    "#TODO: calculate e^(2+ln(|-.5|))"
   ]
  },
  {
   "cell_type": "markdown",
   "metadata": {
    "deletable": false,
    "editable": false,
    "nbgrader": {
     "cell_type": "markdown",
     "checksum": "99a5699ac0c47b54498a981c534d3b35",
     "grade": false,
     "grade_id": "cell-339b058b2acfbcad",
     "locked": true,
     "schema_version": 3,
     "solution": false,
     "task": false
    }
   },
   "source": [
    "**Arrays in Julia**\n",
    "\n",
    "Arrays are collections of numbers across a space.\n",
    "\n",
    "One dimensional arrays, or vectors, typically consist of a row or column of data.\n",
    "\n",
    "Two dimensional arrays, or matrices, consist of a value at each point on a two-dimensional grid."
   ]
  },
  {
   "cell_type": "code",
   "execution_count": 9,
   "metadata": {
    "deletable": false,
    "editable": false,
    "nbgrader": {
     "cell_type": "code",
     "checksum": "fc0e6aef485da6318b27167cc054929d",
     "grade": false,
     "grade_id": "cell-fe6b0151ea814f70",
     "locked": true,
     "schema_version": 3,
     "solution": false,
     "task": false
    }
   },
   "outputs": [
    {
     "data": {
      "text/plain": [
       "5-element Array{Int64,1}:\n",
       " 1\n",
       " 2\n",
       " 3\n",
       " 4\n",
       " 5"
      ]
     },
     "execution_count": 9,
     "metadata": {},
     "output_type": "execute_result"
    }
   ],
   "source": [
    "#use brackets and comma separated numbers to create a one dimensional array\n",
    "#note that julia provides the type of more complicated outputs:\n",
    "#this is a 5 element array\n",
    "#of Ints (integers, not fractions)\n",
    "#and the last term is 1, the dimension of the array.\n",
    "[1,2,3,4,5]\n",
    "\n",
    "\n",
    "#The text below is not relevant for this introduction, so feel free to skip it.\n",
    "\n",
    "#the 64 part basically means that the computer is saying \"we can store massive numbers here\"\n",
    "#some arrays can only store smaller numbers.\n",
    "#For example, arrays of Int16 can only store numbers between -32,768 and 32,767.\n",
    "#Int64 arrays can store numbers much larger than a billion (or smaller than a negative billion)."
   ]
  },
  {
   "cell_type": "code",
   "execution_count": 23,
   "metadata": {
    "scrolled": true
   },
   "outputs": [
    {
     "ename": "LoadError",
     "evalue": "syntax: unexpected semicolon in array expression around In[23]:3",
     "output_type": "error",
     "traceback": [
      "syntax: unexpected semicolon in array expression around In[23]:3",
      "",
      "Stacktrace:",
      " [1] top-level scope at In[23]:3",
      " [2] include_string(::Function, ::Module, ::String, ::String) at .\\loading.jl:1091"
     ]
    }
   ],
   "source": [
    "#a matrix requires a bit more syntax. \n",
    "#Note that each horizontal line ends in a semicolon, and there are no commas.\n",
    "#The output shows matrix dimensions in height by width\n",
    "[1 2;\n",
    "3 4;\n",
    "5 6]"
   ]
  },
  {
   "cell_type": "code",
   "execution_count": null,
   "metadata": {},
   "outputs": [],
   "source": [
    "#TODO: make a 2 by 3 matrix"
   ]
  },
  {
   "cell_type": "code",
   "execution_count": 17,
   "metadata": {},
   "outputs": [
    {
     "data": {
      "text/plain": [
       "true"
      ]
     },
     "execution_count": 17,
     "metadata": {},
     "output_type": "execute_result"
    }
   ],
   "source": [
    "#another item we will likely use are ranges\n",
    "#the syntax is beginning:increment:end\n",
    "#the default increment is one\n",
    "1:10 == 1:1:10"
   ]
  },
  {
   "cell_type": "code",
   "execution_count": 15,
   "metadata": {},
   "outputs": [
    {
     "data": {
      "text/plain": [
       "true"
      ]
     },
     "execution_count": 15,
     "metadata": {},
     "output_type": "execute_result"
    }
   ],
   "source": [
    "#ranges behave just like vectors, but they're easier to write\n",
    "[1,2,3,4,5,6,7,8,9,10] == 1:10"
   ]
  },
  {
   "cell_type": "code",
   "execution_count": 21,
   "metadata": {},
   "outputs": [
    {
     "ename": "LoadError",
     "evalue": "UndefVarError: todo not defined",
     "output_type": "error",
     "traceback": [
      "UndefVarError: todo not defined",
      "",
      "Stacktrace:",
      " [1] top-level scope at In[21]:2",
      " [2] include_string(::Function, ::Module, ::String, ::String) at .\\loading.jl:1091"
     ]
    }
   ],
   "source": [
    "#TODO: create a range which equals this vector\n",
    "todo  : todo : todo == [5,7,9,11]"
   ]
  },
  {
   "cell_type": "code",
   "execution_count": 28,
   "metadata": {},
   "outputs": [
    {
     "data": {
      "text/plain": [
       "6-element Array{Int64,1}:\n",
       " 1\n",
       " 2\n",
       " 3\n",
       " 3\n",
       " 2\n",
       " 1"
      ]
     },
     "execution_count": 28,
     "metadata": {},
     "output_type": "execute_result"
    }
   ],
   "source": [
    "#you can use . (a period) to call a function on each element of an array.\n",
    "#this is called \"broadcasting\" the function over that array.\n",
    "abs.([-1,-2,-3,3,2,1]) "
   ]
  },
  {
   "cell_type": "code",
   "execution_count": 33,
   "metadata": {},
   "outputs": [
    {
     "data": {
      "text/plain": [
       "3-element Array{Int64,1}:\n",
       " 1\n",
       " 1\n",
       " 0"
      ]
     },
     "execution_count": 33,
     "metadata": {},
     "output_type": "execute_result"
    }
   ],
   "source": [
    "#this is also possible with operators\n",
    "[5,7,10] .% 2"
   ]
  },
  {
   "cell_type": "code",
   "execution_count": 29,
   "metadata": {},
   "outputs": [
    {
     "data": {
      "text/plain": [
       "7-element Array{Float64,1}:\n",
       "  0.0\n",
       "  1.2246467991473532e-16\n",
       " -2.4492935982947064e-16\n",
       "  3.6739403974420594e-16\n",
       " -4.898587196589413e-16\n",
       "  6.123233995736766e-16\n",
       " -7.347880794884119e-16"
      ]
     },
     "execution_count": 29,
     "metadata": {},
     "output_type": "execute_result"
    }
   ],
   "source": [
    "#of course, this also works on ranges!\n",
    "#TODO: generate the first 5 square numbers by broadcasting a function (you decide!) over a range\n",
    "#the first 5 square numbers are [1,4,9,16,25]"
   ]
  },
  {
   "cell_type": "markdown",
   "metadata": {
    "deletable": false,
    "editable": false,
    "nbgrader": {
     "cell_type": "markdown",
     "checksum": "fcc7852cf0889b68894276add6776a52",
     "grade": false,
     "grade_id": "cell-84ec179c1fa584c3",
     "locked": true,
     "schema_version": 3,
     "solution": false,
     "task": false
    }
   },
   "source": [
    "**Solving and graphing your own functions**\n",
    "\n",
    "Julia can also help solve any equation that you input.  There are two main ways to declare a function in Julia.\n",
    "\n",
    "Let's practice with the basic linear function:  \n",
    "                                                y = 2x \n",
    "\n",
    "The first one is the most simple:"
   ]
  },
  {
   "cell_type": "code",
   "execution_count": 6,
   "metadata": {},
   "outputs": [
    {
     "output_type": "execute_result",
     "data": {
      "text/plain": [
       "f (generic function with 1 method)"
      ]
     },
     "metadata": {},
     "execution_count": 6
    }
   ],
   "source": [
    "#this defines a custom function that you can use in future lines of code\n",
    "#make sure to run this code again if you restart and need to use f(x) again\n",
    "f(x) = 2x"
   ]
  },
  {
   "cell_type": "code",
   "execution_count": 27,
   "metadata": {},
   "outputs": [
    {
     "name": "stdout",
     "output_type": "stream",
     "text": [
      "10\n",
      "6\n",
      "-4\n"
     ]
    }
   ],
   "source": [
    "#let's evaluate that function to try it out\n",
    "println(f(5))\n",
    "println(f(3))\n",
    "println(f(-2))"
   ]
  },
  {
   "cell_type": "code",
   "execution_count": 5,
   "metadata": {},
   "outputs": [
    {
     "output_type": "error",
     "ename": "LoadError",
     "evalue": "UndefVarError: f not defined",
     "traceback": [
      "UndefVarError: f not defined",
      "",
      "Stacktrace:",
      " [1] top-level scope at In[5]:2",
      " [2] include_string(::Function, ::Module, ::String, ::String) at .\\loading.jl:1091"
     ]
    }
   ],
   "source": [
    "#of course, we can always just use a broadcast to make that statement cleaner!\n",
    "f.([5,3,-2])"
   ]
  },
  {
   "cell_type": "code",
   "execution_count": 3,
   "metadata": {
    "deletable": false,
    "editable": false,
    "nbgrader": {
     "cell_type": "code",
     "checksum": "7cc9b2edf24e24fbe16c03d30498c3ca",
     "grade": false,
     "grade_id": "cell-dd48daa9716b336c",
     "locked": true,
     "schema_version": 3,
     "solution": false,
     "task": false
    }
   },
   "outputs": [
    {
     "output_type": "execute_result",
     "data": {
      "text/plain": [
       "Plots.GRBackend()"
      ]
     },
     "metadata": {},
     "execution_count": 3
    }
   ],
   "source": [
    "#Now let's get ready to plot this function!\n",
    "\n",
    "#These lines give Julia the ability to plot functions.  This may take a while, but it is necessary.\n",
    "# When you see [*], that means Julia is working hard to do what you told it. Your commands may take just a few \n",
    "# lines, but Julia is probably dealing with a lot of files and code, all of which is hidden from us. \n",
    "using Plots\n",
    "gr()"
   ]
  },
  {
   "cell_type": "markdown",
   "metadata": {},
   "source": [
    "\n",
    "\n",
    "For example, let's say we want to plot the function above from 0 to 5, with a data point at every whole number.\n",
    "That would lead to this table:\n",
    "\n",
    "| x       |             f(x) |\n",
    "| :----------- | -----------: |\n",
    "| 0      | 0       |\n",
    "| 1   | 2        |\n",
    "| 2      | 4       |\n",
    "| 3   | 6        |\n",
    "| 4      | 8       |\n",
    "| 5   | 10        |\n",
    "\n",
    "\n",
    "Julia's plot() function works by taking two inputs: \n",
    "\n",
    "- a vector representing the first column, your x values\n",
    "- a vector representing the second column, your f(x) values"
   ]
  },
  {
   "cell_type": "code",
   "execution_count": 38,
   "metadata": {},
   "outputs": [
    {
     "data": {
      "image/svg+xml": [
       "<?xml version=\"1.0\" encoding=\"utf-8\"?>\n",
       "<svg xmlns=\"http://www.w3.org/2000/svg\" xmlns:xlink=\"http://www.w3.org/1999/xlink\" width=\"600\" height=\"400\" viewBox=\"0 0 2400 1600\">\n",
       "<defs>\n",
       "  <clipPath id=\"clip950\">\n",
       "    <rect x=\"0\" y=\"0\" width=\"2400\" height=\"1600\"/>\n",
       "  </clipPath>\n",
       "</defs>\n",
       "<path clip-path=\"url(#clip950)\" d=\"\n",
       "M0 1600 L2400 1600 L2400 0 L0 0  Z\n",
       "  \" fill=\"#ffffff\" fill-rule=\"evenodd\" fill-opacity=\"1\"/>\n",
       "<defs>\n",
       "  <clipPath id=\"clip951\">\n",
       "    <rect x=\"480\" y=\"0\" width=\"1681\" height=\"1600\"/>\n",
       "  </clipPath>\n",
       "</defs>\n",
       "<path clip-path=\"url(#clip950)\" d=\"\n",
       "M171.552 1486.45 L2352.76 1486.45 L2352.76 47.2441 L171.552 47.2441  Z\n",
       "  \" fill=\"#ffffff\" fill-rule=\"evenodd\" fill-opacity=\"1\"/>\n",
       "<defs>\n",
       "  <clipPath id=\"clip952\">\n",
       "    <rect x=\"171\" y=\"47\" width=\"2182\" height=\"1440\"/>\n",
       "  </clipPath>\n",
       "</defs>\n",
       "<polyline clip-path=\"url(#clip952)\" style=\"stroke:#000000; stroke-width:2; stroke-opacity:0.1; fill:none\" points=\"\n",
       "  233.284,1486.45 233.284,47.2441 \n",
       "  \"/>\n",
       "<polyline clip-path=\"url(#clip952)\" style=\"stroke:#000000; stroke-width:2; stroke-opacity:0.1; fill:none\" points=\"\n",
       "  644.832,1486.45 644.832,47.2441 \n",
       "  \"/>\n",
       "<polyline clip-path=\"url(#clip952)\" style=\"stroke:#000000; stroke-width:2; stroke-opacity:0.1; fill:none\" points=\"\n",
       "  1056.38,1486.45 1056.38,47.2441 \n",
       "  \"/>\n",
       "<polyline clip-path=\"url(#clip952)\" style=\"stroke:#000000; stroke-width:2; stroke-opacity:0.1; fill:none\" points=\"\n",
       "  1467.93,1486.45 1467.93,47.2441 \n",
       "  \"/>\n",
       "<polyline clip-path=\"url(#clip952)\" style=\"stroke:#000000; stroke-width:2; stroke-opacity:0.1; fill:none\" points=\"\n",
       "  1879.48,1486.45 1879.48,47.2441 \n",
       "  \"/>\n",
       "<polyline clip-path=\"url(#clip952)\" style=\"stroke:#000000; stroke-width:2; stroke-opacity:0.1; fill:none\" points=\"\n",
       "  2291.02,1486.45 2291.02,47.2441 \n",
       "  \"/>\n",
       "<polyline clip-path=\"url(#clip952)\" style=\"stroke:#000000; stroke-width:2; stroke-opacity:0.1; fill:none\" points=\"\n",
       "  171.552,1445.72 2352.76,1445.72 \n",
       "  \"/>\n",
       "<polyline clip-path=\"url(#clip952)\" style=\"stroke:#000000; stroke-width:2; stroke-opacity:0.1; fill:none\" points=\"\n",
       "  171.552,1106.28 2352.76,1106.28 \n",
       "  \"/>\n",
       "<polyline clip-path=\"url(#clip952)\" style=\"stroke:#000000; stroke-width:2; stroke-opacity:0.1; fill:none\" points=\"\n",
       "  171.552,766.846 2352.76,766.846 \n",
       "  \"/>\n",
       "<polyline clip-path=\"url(#clip952)\" style=\"stroke:#000000; stroke-width:2; stroke-opacity:0.1; fill:none\" points=\"\n",
       "  171.552,427.411 2352.76,427.411 \n",
       "  \"/>\n",
       "<polyline clip-path=\"url(#clip952)\" style=\"stroke:#000000; stroke-width:2; stroke-opacity:0.1; fill:none\" points=\"\n",
       "  171.552,87.9763 2352.76,87.9763 \n",
       "  \"/>\n",
       "<polyline clip-path=\"url(#clip950)\" style=\"stroke:#000000; stroke-width:4; stroke-opacity:1; fill:none\" points=\"\n",
       "  171.552,1486.45 2352.76,1486.45 \n",
       "  \"/>\n",
       "<polyline clip-path=\"url(#clip950)\" style=\"stroke:#000000; stroke-width:4; stroke-opacity:1; fill:none\" points=\"\n",
       "  171.552,1486.45 171.552,47.2441 \n",
       "  \"/>\n",
       "<polyline clip-path=\"url(#clip950)\" style=\"stroke:#000000; stroke-width:4; stroke-opacity:1; fill:none\" points=\"\n",
       "  233.284,1486.45 233.284,1469.18 \n",
       "  \"/>\n",
       "<polyline clip-path=\"url(#clip950)\" style=\"stroke:#000000; stroke-width:4; stroke-opacity:1; fill:none\" points=\"\n",
       "  644.832,1486.45 644.832,1469.18 \n",
       "  \"/>\n",
       "<polyline clip-path=\"url(#clip950)\" style=\"stroke:#000000; stroke-width:4; stroke-opacity:1; fill:none\" points=\"\n",
       "  1056.38,1486.45 1056.38,1469.18 \n",
       "  \"/>\n",
       "<polyline clip-path=\"url(#clip950)\" style=\"stroke:#000000; stroke-width:4; stroke-opacity:1; fill:none\" points=\"\n",
       "  1467.93,1486.45 1467.93,1469.18 \n",
       "  \"/>\n",
       "<polyline clip-path=\"url(#clip950)\" style=\"stroke:#000000; stroke-width:4; stroke-opacity:1; fill:none\" points=\"\n",
       "  1879.48,1486.45 1879.48,1469.18 \n",
       "  \"/>\n",
       "<polyline clip-path=\"url(#clip950)\" style=\"stroke:#000000; stroke-width:4; stroke-opacity:1; fill:none\" points=\"\n",
       "  2291.02,1486.45 2291.02,1469.18 \n",
       "  \"/>\n",
       "<polyline clip-path=\"url(#clip950)\" style=\"stroke:#000000; stroke-width:4; stroke-opacity:1; fill:none\" points=\"\n",
       "  171.552,1445.72 197.726,1445.72 \n",
       "  \"/>\n",
       "<polyline clip-path=\"url(#clip950)\" style=\"stroke:#000000; stroke-width:4; stroke-opacity:1; fill:none\" points=\"\n",
       "  171.552,1106.28 197.726,1106.28 \n",
       "  \"/>\n",
       "<polyline clip-path=\"url(#clip950)\" style=\"stroke:#000000; stroke-width:4; stroke-opacity:1; fill:none\" points=\"\n",
       "  171.552,766.846 197.726,766.846 \n",
       "  \"/>\n",
       "<polyline clip-path=\"url(#clip950)\" style=\"stroke:#000000; stroke-width:4; stroke-opacity:1; fill:none\" points=\"\n",
       "  171.552,427.411 197.726,427.411 \n",
       "  \"/>\n",
       "<polyline clip-path=\"url(#clip950)\" style=\"stroke:#000000; stroke-width:4; stroke-opacity:1; fill:none\" points=\"\n",
       "  171.552,87.9763 197.726,87.9763 \n",
       "  \"/>\n",
       "<path clip-path=\"url(#clip950)\" d=\"M 0 0 M233.284 1508.44 Q229.673 1508.44 227.844 1512 Q226.039 1515.55 226.039 1522.67 Q226.039 1529.78 227.844 1533.35 Q229.673 1536.89 233.284 1536.89 Q236.918 1536.89 238.724 1533.35 Q240.553 1529.78 240.553 1522.67 Q240.553 1515.55 238.724 1512 Q236.918 1508.44 233.284 1508.44 M233.284 1504.73 Q239.094 1504.73 242.15 1509.34 Q245.228 1513.92 245.228 1522.67 Q245.228 1531.4 242.15 1536.01 Q239.094 1540.59 233.284 1540.59 Q227.474 1540.59 224.395 1536.01 Q221.34 1531.4 221.34 1522.67 Q221.34 1513.92 224.395 1509.34 Q227.474 1504.73 233.284 1504.73 Z\" fill=\"#000000\" fill-rule=\"evenodd\" fill-opacity=\"1\" /><path clip-path=\"url(#clip950)\" d=\"M 0 0 M635.214 1535.98 L642.853 1535.98 L642.853 1509.62 L634.543 1511.29 L634.543 1507.03 L642.807 1505.36 L647.482 1505.36 L647.482 1535.98 L655.121 1535.98 L655.121 1539.92 L635.214 1539.92 L635.214 1535.98 Z\" fill=\"#000000\" fill-rule=\"evenodd\" fill-opacity=\"1\" /><path clip-path=\"url(#clip950)\" d=\"M 0 0 M1051.03 1535.98 L1067.35 1535.98 L1067.35 1539.92 L1045.41 1539.92 L1045.41 1535.98 Q1048.07 1533.23 1052.65 1528.6 Q1057.26 1523.95 1058.44 1522.61 Q1060.69 1520.08 1061.57 1518.35 Q1062.47 1516.59 1062.47 1514.9 Q1062.47 1512.14 1060.52 1510.41 Q1058.6 1508.67 1055.5 1508.67 Q1053.3 1508.67 1050.85 1509.43 Q1048.42 1510.2 1045.64 1511.75 L1045.64 1507.03 Q1048.46 1505.89 1050.92 1505.31 Q1053.37 1504.73 1055.41 1504.73 Q1060.78 1504.73 1063.97 1507.42 Q1067.17 1510.11 1067.17 1514.6 Q1067.17 1516.73 1066.36 1518.65 Q1065.57 1520.54 1063.46 1523.14 Q1062.88 1523.81 1059.78 1527.03 Q1056.68 1530.22 1051.03 1535.98 Z\" fill=\"#000000\" fill-rule=\"evenodd\" fill-opacity=\"1\" /><path clip-path=\"url(#clip950)\" d=\"M 0 0 M1472.18 1521.29 Q1475.53 1522 1477.41 1524.27 Q1479.31 1526.54 1479.31 1529.87 Q1479.31 1534.99 1475.79 1537.79 Q1472.27 1540.59 1465.79 1540.59 Q1463.61 1540.59 1461.3 1540.15 Q1459 1539.73 1456.55 1538.88 L1456.55 1534.36 Q1458.5 1535.5 1460.81 1536.08 Q1463.12 1536.66 1465.65 1536.66 Q1470.05 1536.66 1472.34 1534.92 Q1474.65 1533.18 1474.65 1529.87 Q1474.65 1526.82 1472.5 1525.11 Q1470.37 1523.37 1466.55 1523.37 L1462.52 1523.37 L1462.52 1519.53 L1466.74 1519.53 Q1470.18 1519.53 1472.01 1518.16 Q1473.84 1516.77 1473.84 1514.18 Q1473.84 1511.52 1471.94 1510.11 Q1470.07 1508.67 1466.55 1508.67 Q1464.63 1508.67 1462.43 1509.09 Q1460.23 1509.5 1457.59 1510.38 L1457.59 1506.22 Q1460.25 1505.48 1462.57 1505.11 Q1464.91 1504.73 1466.97 1504.73 Q1472.29 1504.73 1475.39 1507.17 Q1478.49 1509.57 1478.49 1513.69 Q1478.49 1516.56 1476.85 1518.55 Q1475.21 1520.52 1472.18 1521.29 Z\" fill=\"#000000\" fill-rule=\"evenodd\" fill-opacity=\"1\" /><path clip-path=\"url(#clip950)\" d=\"M 0 0 M1882.49 1509.43 L1870.68 1527.88 L1882.49 1527.88 L1882.49 1509.43 M1881.26 1505.36 L1887.14 1505.36 L1887.14 1527.88 L1892.07 1527.88 L1892.07 1531.77 L1887.14 1531.77 L1887.14 1539.92 L1882.49 1539.92 L1882.49 1531.77 L1866.88 1531.77 L1866.88 1527.26 L1881.26 1505.36 Z\" fill=\"#000000\" fill-rule=\"evenodd\" fill-opacity=\"1\" /><path clip-path=\"url(#clip950)\" d=\"M 0 0 M2281.3 1505.36 L2299.66 1505.36 L2299.66 1509.3 L2285.58 1509.3 L2285.58 1517.77 Q2286.6 1517.42 2287.62 1517.26 Q2288.64 1517.07 2289.66 1517.07 Q2295.44 1517.07 2298.82 1520.24 Q2302.2 1523.42 2302.2 1528.83 Q2302.2 1534.41 2298.73 1537.51 Q2295.26 1540.59 2288.94 1540.59 Q2286.76 1540.59 2284.5 1540.22 Q2282.25 1539.85 2279.84 1539.11 L2279.84 1534.41 Q2281.93 1535.54 2284.15 1536.1 Q2286.37 1536.66 2288.85 1536.66 Q2292.85 1536.66 2295.19 1534.55 Q2297.53 1532.44 2297.53 1528.83 Q2297.53 1525.22 2295.19 1523.11 Q2292.85 1521.01 2288.85 1521.01 Q2286.97 1521.01 2285.1 1521.42 Q2283.25 1521.84 2281.3 1522.72 L2281.3 1505.36 Z\" fill=\"#000000\" fill-rule=\"evenodd\" fill-opacity=\"1\" /><path clip-path=\"url(#clip950)\" d=\"M 0 0 M98.6401 1431.51 Q95.029 1431.51 93.2003 1435.08 Q91.3948 1438.62 91.3948 1445.75 Q91.3948 1452.86 93.2003 1456.42 Q95.029 1459.96 98.6401 1459.96 Q102.274 1459.96 104.08 1456.42 Q105.909 1452.86 105.909 1445.75 Q105.909 1438.62 104.08 1435.08 Q102.274 1431.51 98.6401 1431.51 M98.6401 1427.81 Q104.45 1427.81 107.506 1432.42 Q110.584 1437 110.584 1445.75 Q110.584 1454.48 107.506 1459.08 Q104.45 1463.67 98.6401 1463.67 Q92.8299 1463.67 89.7512 1459.08 Q86.6957 1454.48 86.6957 1445.75 Q86.6957 1437 89.7512 1432.42 Q92.8299 1427.81 98.6401 1427.81 Z\" fill=\"#000000\" fill-rule=\"evenodd\" fill-opacity=\"1\" /><path clip-path=\"url(#clip950)\" d=\"M 0 0 M115.654 1457.12 L120.538 1457.12 L120.538 1463 L115.654 1463 L115.654 1457.12 Z\" fill=\"#000000\" fill-rule=\"evenodd\" fill-opacity=\"1\" /><path clip-path=\"url(#clip950)\" d=\"M 0 0 M135.607 1431.51 Q131.996 1431.51 130.168 1435.08 Q128.362 1438.62 128.362 1445.75 Q128.362 1452.86 130.168 1456.42 Q131.996 1459.96 135.607 1459.96 Q139.242 1459.96 141.047 1456.42 Q142.876 1452.86 142.876 1445.75 Q142.876 1438.62 141.047 1435.08 Q139.242 1431.51 135.607 1431.51 M135.607 1427.81 Q141.418 1427.81 144.473 1432.42 Q147.552 1437 147.552 1445.75 Q147.552 1454.48 144.473 1459.08 Q141.418 1463.67 135.607 1463.67 Q129.797 1463.67 126.719 1459.08 Q123.663 1454.48 123.663 1445.75 Q123.663 1437 126.719 1432.42 Q129.797 1427.81 135.607 1427.81 Z\" fill=\"#000000\" fill-rule=\"evenodd\" fill-opacity=\"1\" /><path clip-path=\"url(#clip950)\" d=\"M 0 0 M95.2605 1119.63 L111.58 1119.63 L111.58 1123.56 L89.6355 1123.56 L89.6355 1119.63 Q92.2975 1116.87 96.8808 1112.24 Q101.487 1107.59 102.668 1106.25 Q104.913 1103.72 105.793 1101.99 Q106.696 1100.23 106.696 1098.54 Q106.696 1095.78 104.751 1094.05 Q102.83 1092.31 99.728 1092.31 Q97.529 1092.31 95.0753 1093.07 Q92.6447 1093.84 89.867 1095.39 L89.867 1090.67 Q92.691 1089.53 95.1447 1088.95 Q97.5984 1088.38 99.6354 1088.38 Q105.006 1088.38 108.2 1091.06 Q111.395 1093.75 111.395 1098.24 Q111.395 1100.37 110.584 1102.29 Q109.797 1104.19 107.691 1106.78 Q107.112 1107.45 104.01 1110.67 Q100.909 1113.86 95.2605 1119.63 Z\" fill=\"#000000\" fill-rule=\"evenodd\" fill-opacity=\"1\" /><path clip-path=\"url(#clip950)\" d=\"M 0 0 M116.649 1117.68 L121.533 1117.68 L121.533 1123.56 L116.649 1123.56 L116.649 1117.68 Z\" fill=\"#000000\" fill-rule=\"evenodd\" fill-opacity=\"1\" /><path clip-path=\"url(#clip950)\" d=\"M 0 0 M126.649 1089 L145.006 1089 L145.006 1092.94 L130.932 1092.94 L130.932 1101.41 Q131.95 1101.06 132.969 1100.9 Q133.987 1100.71 135.006 1100.71 Q140.793 1100.71 144.172 1103.89 Q147.552 1107.06 147.552 1112.47 Q147.552 1118.05 144.08 1121.15 Q140.607 1124.23 134.288 1124.23 Q132.112 1124.23 129.844 1123.86 Q127.598 1123.49 125.191 1122.75 L125.191 1118.05 Q127.274 1119.19 129.496 1119.74 Q131.719 1120.3 134.195 1120.3 Q138.2 1120.3 140.538 1118.19 Q142.876 1116.08 142.876 1112.47 Q142.876 1108.86 140.538 1106.76 Q138.2 1104.65 134.195 1104.65 Q132.32 1104.65 130.445 1105.07 Q128.594 1105.48 126.649 1106.36 L126.649 1089 Z\" fill=\"#000000\" fill-rule=\"evenodd\" fill-opacity=\"1\" /><path clip-path=\"url(#clip950)\" d=\"M 0 0 M89.6818 749.566 L108.038 749.566 L108.038 753.501 L93.9642 753.501 L93.9642 761.973 Q94.9827 761.626 96.0012 761.464 Q97.0197 761.279 98.0382 761.279 Q103.825 761.279 107.205 764.45 Q110.584 767.621 110.584 773.038 Q110.584 778.617 107.112 781.719 Q103.64 784.797 97.3206 784.797 Q95.1447 784.797 92.8762 784.427 Q90.6309 784.057 88.2235 783.316 L88.2235 778.617 Q90.3068 779.751 92.529 780.307 Q94.7512 780.862 97.2281 780.862 Q101.233 780.862 103.571 778.756 Q105.909 776.649 105.909 773.038 Q105.909 769.427 103.571 767.321 Q101.233 765.214 97.2281 765.214 Q95.3531 765.214 93.4781 765.631 Q91.6262 766.047 89.6818 766.927 L89.6818 749.566 Z\" fill=\"#000000\" fill-rule=\"evenodd\" fill-opacity=\"1\" /><path clip-path=\"url(#clip950)\" d=\"M 0 0 M115.654 778.246 L120.538 778.246 L120.538 784.126 L115.654 784.126 L115.654 778.246 Z\" fill=\"#000000\" fill-rule=\"evenodd\" fill-opacity=\"1\" /><path clip-path=\"url(#clip950)\" d=\"M 0 0 M135.607 752.645 Q131.996 752.645 130.168 756.209 Q128.362 759.751 128.362 766.881 Q128.362 773.987 130.168 777.552 Q131.996 781.094 135.607 781.094 Q139.242 781.094 141.047 777.552 Q142.876 773.987 142.876 766.881 Q142.876 759.751 141.047 756.209 Q139.242 752.645 135.607 752.645 M135.607 748.941 Q141.418 748.941 144.473 753.547 Q147.552 758.131 147.552 766.881 Q147.552 775.608 144.473 780.214 Q141.418 784.797 135.607 784.797 Q129.797 784.797 126.719 780.214 Q123.663 775.608 123.663 766.881 Q123.663 758.131 126.719 753.547 Q129.797 748.941 135.607 748.941 Z\" fill=\"#000000\" fill-rule=\"evenodd\" fill-opacity=\"1\" /><path clip-path=\"url(#clip950)\" d=\"M 0 0 M89.3577 410.131 L111.58 410.131 L111.58 412.122 L99.0336 444.691 L94.1494 444.691 L105.955 414.066 L89.3577 414.066 L89.3577 410.131 Z\" fill=\"#000000\" fill-rule=\"evenodd\" fill-opacity=\"1\" /><path clip-path=\"url(#clip950)\" d=\"M 0 0 M116.649 438.812 L121.533 438.812 L121.533 444.691 L116.649 444.691 L116.649 438.812 Z\" fill=\"#000000\" fill-rule=\"evenodd\" fill-opacity=\"1\" /><path clip-path=\"url(#clip950)\" d=\"M 0 0 M126.649 410.131 L145.006 410.131 L145.006 414.066 L130.932 414.066 L130.932 422.538 Q131.95 422.191 132.969 422.029 Q133.987 421.844 135.006 421.844 Q140.793 421.844 144.172 425.015 Q147.552 428.187 147.552 433.603 Q147.552 439.182 144.08 442.284 Q140.607 445.362 134.288 445.362 Q132.112 445.362 129.844 444.992 Q127.598 444.622 125.191 443.881 L125.191 439.182 Q127.274 440.316 129.496 440.872 Q131.719 441.427 134.195 441.427 Q138.2 441.427 140.538 439.321 Q142.876 437.214 142.876 433.603 Q142.876 429.992 140.538 427.886 Q138.2 425.779 134.195 425.779 Q132.32 425.779 130.445 426.196 Q128.594 426.613 126.649 427.492 L126.649 410.131 Z\" fill=\"#000000\" fill-rule=\"evenodd\" fill-opacity=\"1\" /><path clip-path=\"url(#clip950)\" d=\"M 0 0 M63.6634 101.321 L71.3023 101.321 L71.3023 74.9555 L62.9921 76.6222 L62.9921 72.3629 L71.256 70.6963 L75.9319 70.6963 L75.9319 101.321 L83.5707 101.321 L83.5707 105.256 L63.6634 105.256 L63.6634 101.321 Z\" fill=\"#000000\" fill-rule=\"evenodd\" fill-opacity=\"1\" /><path clip-path=\"url(#clip950)\" d=\"M 0 0 M98.6401 73.775 Q95.029 73.775 93.2003 77.3398 Q91.3948 80.8814 91.3948 88.011 Q91.3948 95.1174 93.2003 98.6822 Q95.029 102.224 98.6401 102.224 Q102.274 102.224 104.08 98.6822 Q105.909 95.1174 105.909 88.011 Q105.909 80.8814 104.08 77.3398 Q102.274 73.775 98.6401 73.775 M98.6401 70.0713 Q104.45 70.0713 107.506 74.6777 Q110.584 79.261 110.584 88.011 Q110.584 96.7378 107.506 101.344 Q104.45 105.928 98.6401 105.928 Q92.8299 105.928 89.7512 101.344 Q86.6957 96.7378 86.6957 88.011 Q86.6957 79.261 89.7512 74.6777 Q92.8299 70.0713 98.6401 70.0713 Z\" fill=\"#000000\" fill-rule=\"evenodd\" fill-opacity=\"1\" /><path clip-path=\"url(#clip950)\" d=\"M 0 0 M115.654 99.3767 L120.538 99.3767 L120.538 105.256 L115.654 105.256 L115.654 99.3767 Z\" fill=\"#000000\" fill-rule=\"evenodd\" fill-opacity=\"1\" /><path clip-path=\"url(#clip950)\" d=\"M 0 0 M135.607 73.775 Q131.996 73.775 130.168 77.3398 Q128.362 80.8814 128.362 88.011 Q128.362 95.1174 130.168 98.6822 Q131.996 102.224 135.607 102.224 Q139.242 102.224 141.047 98.6822 Q142.876 95.1174 142.876 88.011 Q142.876 80.8814 141.047 77.3398 Q139.242 73.775 135.607 73.775 M135.607 70.0713 Q141.418 70.0713 144.473 74.6777 Q147.552 79.261 147.552 88.011 Q147.552 96.7378 144.473 101.344 Q141.418 105.928 135.607 105.928 Q129.797 105.928 126.719 101.344 Q123.663 96.7378 123.663 88.011 Q123.663 79.261 126.719 74.6777 Q129.797 70.0713 135.607 70.0713 Z\" fill=\"#000000\" fill-rule=\"evenodd\" fill-opacity=\"1\" /><polyline clip-path=\"url(#clip952)\" style=\"stroke:#009af9; stroke-width:4; stroke-opacity:1; fill:none\" points=\"\n",
       "  233.284,1445.72 644.832,1174.17 1056.38,902.62 1467.93,631.072 1879.48,359.524 2291.02,87.9763 \n",
       "  \"/>\n",
       "<path clip-path=\"url(#clip950)\" d=\"\n",
       "M1986.67 216.178 L2280.05 216.178 L2280.05 95.2176 L1986.67 95.2176  Z\n",
       "  \" fill=\"#ffffff\" fill-rule=\"evenodd\" fill-opacity=\"1\"/>\n",
       "<polyline clip-path=\"url(#clip950)\" style=\"stroke:#000000; stroke-width:4; stroke-opacity:1; fill:none\" points=\"\n",
       "  1986.67,216.178 2280.05,216.178 2280.05,95.2176 1986.67,95.2176 1986.67,216.178 \n",
       "  \"/>\n",
       "<polyline clip-path=\"url(#clip950)\" style=\"stroke:#009af9; stroke-width:4; stroke-opacity:1; fill:none\" points=\"\n",
       "  2010.91,155.698 2156.32,155.698 \n",
       "  \"/>\n",
       "<path clip-path=\"url(#clip950)\" d=\"M 0 0 M2194.4 175.385 Q2192.6 180.015 2190.88 181.427 Q2189.17 182.839 2186.3 182.839 L2182.9 182.839 L2182.9 179.274 L2185.4 179.274 Q2187.16 179.274 2188.13 178.44 Q2189.1 177.607 2190.28 174.505 L2191.05 172.561 L2180.56 147.052 L2185.07 147.052 L2193.18 167.329 L2201.28 147.052 L2205.79 147.052 L2194.4 175.385 Z\" fill=\"#000000\" fill-rule=\"evenodd\" fill-opacity=\"1\" /><path clip-path=\"url(#clip950)\" d=\"M 0 0 M2211.67 169.042 L2219.31 169.042 L2219.31 142.677 L2211 144.343 L2211 140.084 L2219.26 138.418 L2223.94 138.418 L2223.94 169.042 L2231.58 169.042 L2231.58 172.978 L2211.67 172.978 L2211.67 169.042 Z\" fill=\"#000000\" fill-rule=\"evenodd\" fill-opacity=\"1\" /></svg>\n"
      ]
     },
     "execution_count": 38,
     "metadata": {},
     "output_type": "execute_result"
    }
   ],
   "source": [
    "#so in julia, we would plot the table like this:\n",
    "plot([0,1,2,3,4,5],\n",
    "    [0,2,4,6,8,10])\n",
    "\n",
    "#julia allows you to put arguments onto separate lines for readability. Just don't forget the comma.\n",
    "#the \"y1\" here is because we didn't give this plot a name."
   ]
  },
  {
   "cell_type": "code",
   "execution_count": 39,
   "metadata": {
    "scrolled": true
   },
   "outputs": [
    {
     "data": {
      "image/svg+xml": [
       "<?xml version=\"1.0\" encoding=\"utf-8\"?>\n",
       "<svg xmlns=\"http://www.w3.org/2000/svg\" xmlns:xlink=\"http://www.w3.org/1999/xlink\" width=\"600\" height=\"400\" viewBox=\"0 0 2400 1600\">\n",
       "<defs>\n",
       "  <clipPath id=\"clip990\">\n",
       "    <rect x=\"0\" y=\"0\" width=\"2400\" height=\"1600\"/>\n",
       "  </clipPath>\n",
       "</defs>\n",
       "<path clip-path=\"url(#clip990)\" d=\"\n",
       "M0 1600 L2400 1600 L2400 0 L0 0  Z\n",
       "  \" fill=\"#ffffff\" fill-rule=\"evenodd\" fill-opacity=\"1\"/>\n",
       "<defs>\n",
       "  <clipPath id=\"clip991\">\n",
       "    <rect x=\"480\" y=\"0\" width=\"1681\" height=\"1600\"/>\n",
       "  </clipPath>\n",
       "</defs>\n",
       "<path clip-path=\"url(#clip990)\" d=\"\n",
       "M171.552 1486.45 L2352.76 1486.45 L2352.76 47.2441 L171.552 47.2441  Z\n",
       "  \" fill=\"#ffffff\" fill-rule=\"evenodd\" fill-opacity=\"1\"/>\n",
       "<defs>\n",
       "  <clipPath id=\"clip992\">\n",
       "    <rect x=\"171\" y=\"47\" width=\"2182\" height=\"1440\"/>\n",
       "  </clipPath>\n",
       "</defs>\n",
       "<polyline clip-path=\"url(#clip992)\" style=\"stroke:#000000; stroke-width:2; stroke-opacity:0.1; fill:none\" points=\"\n",
       "  233.284,1486.45 233.284,47.2441 \n",
       "  \"/>\n",
       "<polyline clip-path=\"url(#clip992)\" style=\"stroke:#000000; stroke-width:2; stroke-opacity:0.1; fill:none\" points=\"\n",
       "  644.832,1486.45 644.832,47.2441 \n",
       "  \"/>\n",
       "<polyline clip-path=\"url(#clip992)\" style=\"stroke:#000000; stroke-width:2; stroke-opacity:0.1; fill:none\" points=\"\n",
       "  1056.38,1486.45 1056.38,47.2441 \n",
       "  \"/>\n",
       "<polyline clip-path=\"url(#clip992)\" style=\"stroke:#000000; stroke-width:2; stroke-opacity:0.1; fill:none\" points=\"\n",
       "  1467.93,1486.45 1467.93,47.2441 \n",
       "  \"/>\n",
       "<polyline clip-path=\"url(#clip992)\" style=\"stroke:#000000; stroke-width:2; stroke-opacity:0.1; fill:none\" points=\"\n",
       "  1879.48,1486.45 1879.48,47.2441 \n",
       "  \"/>\n",
       "<polyline clip-path=\"url(#clip992)\" style=\"stroke:#000000; stroke-width:2; stroke-opacity:0.1; fill:none\" points=\"\n",
       "  2291.02,1486.45 2291.02,47.2441 \n",
       "  \"/>\n",
       "<polyline clip-path=\"url(#clip992)\" style=\"stroke:#000000; stroke-width:2; stroke-opacity:0.1; fill:none\" points=\"\n",
       "  171.552,1445.72 2352.76,1445.72 \n",
       "  \"/>\n",
       "<polyline clip-path=\"url(#clip992)\" style=\"stroke:#000000; stroke-width:2; stroke-opacity:0.1; fill:none\" points=\"\n",
       "  171.552,1106.28 2352.76,1106.28 \n",
       "  \"/>\n",
       "<polyline clip-path=\"url(#clip992)\" style=\"stroke:#000000; stroke-width:2; stroke-opacity:0.1; fill:none\" points=\"\n",
       "  171.552,766.846 2352.76,766.846 \n",
       "  \"/>\n",
       "<polyline clip-path=\"url(#clip992)\" style=\"stroke:#000000; stroke-width:2; stroke-opacity:0.1; fill:none\" points=\"\n",
       "  171.552,427.411 2352.76,427.411 \n",
       "  \"/>\n",
       "<polyline clip-path=\"url(#clip992)\" style=\"stroke:#000000; stroke-width:2; stroke-opacity:0.1; fill:none\" points=\"\n",
       "  171.552,87.9763 2352.76,87.9763 \n",
       "  \"/>\n",
       "<polyline clip-path=\"url(#clip990)\" style=\"stroke:#000000; stroke-width:4; stroke-opacity:1; fill:none\" points=\"\n",
       "  171.552,1486.45 2352.76,1486.45 \n",
       "  \"/>\n",
       "<polyline clip-path=\"url(#clip990)\" style=\"stroke:#000000; stroke-width:4; stroke-opacity:1; fill:none\" points=\"\n",
       "  171.552,1486.45 171.552,47.2441 \n",
       "  \"/>\n",
       "<polyline clip-path=\"url(#clip990)\" style=\"stroke:#000000; stroke-width:4; stroke-opacity:1; fill:none\" points=\"\n",
       "  233.284,1486.45 233.284,1469.18 \n",
       "  \"/>\n",
       "<polyline clip-path=\"url(#clip990)\" style=\"stroke:#000000; stroke-width:4; stroke-opacity:1; fill:none\" points=\"\n",
       "  644.832,1486.45 644.832,1469.18 \n",
       "  \"/>\n",
       "<polyline clip-path=\"url(#clip990)\" style=\"stroke:#000000; stroke-width:4; stroke-opacity:1; fill:none\" points=\"\n",
       "  1056.38,1486.45 1056.38,1469.18 \n",
       "  \"/>\n",
       "<polyline clip-path=\"url(#clip990)\" style=\"stroke:#000000; stroke-width:4; stroke-opacity:1; fill:none\" points=\"\n",
       "  1467.93,1486.45 1467.93,1469.18 \n",
       "  \"/>\n",
       "<polyline clip-path=\"url(#clip990)\" style=\"stroke:#000000; stroke-width:4; stroke-opacity:1; fill:none\" points=\"\n",
       "  1879.48,1486.45 1879.48,1469.18 \n",
       "  \"/>\n",
       "<polyline clip-path=\"url(#clip990)\" style=\"stroke:#000000; stroke-width:4; stroke-opacity:1; fill:none\" points=\"\n",
       "  2291.02,1486.45 2291.02,1469.18 \n",
       "  \"/>\n",
       "<polyline clip-path=\"url(#clip990)\" style=\"stroke:#000000; stroke-width:4; stroke-opacity:1; fill:none\" points=\"\n",
       "  171.552,1445.72 197.726,1445.72 \n",
       "  \"/>\n",
       "<polyline clip-path=\"url(#clip990)\" style=\"stroke:#000000; stroke-width:4; stroke-opacity:1; fill:none\" points=\"\n",
       "  171.552,1106.28 197.726,1106.28 \n",
       "  \"/>\n",
       "<polyline clip-path=\"url(#clip990)\" style=\"stroke:#000000; stroke-width:4; stroke-opacity:1; fill:none\" points=\"\n",
       "  171.552,766.846 197.726,766.846 \n",
       "  \"/>\n",
       "<polyline clip-path=\"url(#clip990)\" style=\"stroke:#000000; stroke-width:4; stroke-opacity:1; fill:none\" points=\"\n",
       "  171.552,427.411 197.726,427.411 \n",
       "  \"/>\n",
       "<polyline clip-path=\"url(#clip990)\" style=\"stroke:#000000; stroke-width:4; stroke-opacity:1; fill:none\" points=\"\n",
       "  171.552,87.9763 197.726,87.9763 \n",
       "  \"/>\n",
       "<path clip-path=\"url(#clip990)\" d=\"M 0 0 M233.284 1508.44 Q229.673 1508.44 227.844 1512 Q226.039 1515.55 226.039 1522.67 Q226.039 1529.78 227.844 1533.35 Q229.673 1536.89 233.284 1536.89 Q236.918 1536.89 238.724 1533.35 Q240.553 1529.78 240.553 1522.67 Q240.553 1515.55 238.724 1512 Q236.918 1508.44 233.284 1508.44 M233.284 1504.73 Q239.094 1504.73 242.15 1509.34 Q245.228 1513.92 245.228 1522.67 Q245.228 1531.4 242.15 1536.01 Q239.094 1540.59 233.284 1540.59 Q227.474 1540.59 224.395 1536.01 Q221.34 1531.4 221.34 1522.67 Q221.34 1513.92 224.395 1509.34 Q227.474 1504.73 233.284 1504.73 Z\" fill=\"#000000\" fill-rule=\"evenodd\" fill-opacity=\"1\" /><path clip-path=\"url(#clip990)\" d=\"M 0 0 M635.214 1535.98 L642.853 1535.98 L642.853 1509.62 L634.543 1511.29 L634.543 1507.03 L642.807 1505.36 L647.482 1505.36 L647.482 1535.98 L655.121 1535.98 L655.121 1539.92 L635.214 1539.92 L635.214 1535.98 Z\" fill=\"#000000\" fill-rule=\"evenodd\" fill-opacity=\"1\" /><path clip-path=\"url(#clip990)\" d=\"M 0 0 M1051.03 1535.98 L1067.35 1535.98 L1067.35 1539.92 L1045.41 1539.92 L1045.41 1535.98 Q1048.07 1533.23 1052.65 1528.6 Q1057.26 1523.95 1058.44 1522.61 Q1060.69 1520.08 1061.57 1518.35 Q1062.47 1516.59 1062.47 1514.9 Q1062.47 1512.14 1060.52 1510.41 Q1058.6 1508.67 1055.5 1508.67 Q1053.3 1508.67 1050.85 1509.43 Q1048.42 1510.2 1045.64 1511.75 L1045.64 1507.03 Q1048.46 1505.89 1050.92 1505.31 Q1053.37 1504.73 1055.41 1504.73 Q1060.78 1504.73 1063.97 1507.42 Q1067.17 1510.11 1067.17 1514.6 Q1067.17 1516.73 1066.36 1518.65 Q1065.57 1520.54 1063.46 1523.14 Q1062.88 1523.81 1059.78 1527.03 Q1056.68 1530.22 1051.03 1535.98 Z\" fill=\"#000000\" fill-rule=\"evenodd\" fill-opacity=\"1\" /><path clip-path=\"url(#clip990)\" d=\"M 0 0 M1472.18 1521.29 Q1475.53 1522 1477.41 1524.27 Q1479.31 1526.54 1479.31 1529.87 Q1479.31 1534.99 1475.79 1537.79 Q1472.27 1540.59 1465.79 1540.59 Q1463.61 1540.59 1461.3 1540.15 Q1459 1539.73 1456.55 1538.88 L1456.55 1534.36 Q1458.5 1535.5 1460.81 1536.08 Q1463.12 1536.66 1465.65 1536.66 Q1470.05 1536.66 1472.34 1534.92 Q1474.65 1533.18 1474.65 1529.87 Q1474.65 1526.82 1472.5 1525.11 Q1470.37 1523.37 1466.55 1523.37 L1462.52 1523.37 L1462.52 1519.53 L1466.74 1519.53 Q1470.18 1519.53 1472.01 1518.16 Q1473.84 1516.77 1473.84 1514.18 Q1473.84 1511.52 1471.94 1510.11 Q1470.07 1508.67 1466.55 1508.67 Q1464.63 1508.67 1462.43 1509.09 Q1460.23 1509.5 1457.59 1510.38 L1457.59 1506.22 Q1460.25 1505.48 1462.57 1505.11 Q1464.91 1504.73 1466.97 1504.73 Q1472.29 1504.73 1475.39 1507.17 Q1478.49 1509.57 1478.49 1513.69 Q1478.49 1516.56 1476.85 1518.55 Q1475.21 1520.52 1472.18 1521.29 Z\" fill=\"#000000\" fill-rule=\"evenodd\" fill-opacity=\"1\" /><path clip-path=\"url(#clip990)\" d=\"M 0 0 M1882.49 1509.43 L1870.68 1527.88 L1882.49 1527.88 L1882.49 1509.43 M1881.26 1505.36 L1887.14 1505.36 L1887.14 1527.88 L1892.07 1527.88 L1892.07 1531.77 L1887.14 1531.77 L1887.14 1539.92 L1882.49 1539.92 L1882.49 1531.77 L1866.88 1531.77 L1866.88 1527.26 L1881.26 1505.36 Z\" fill=\"#000000\" fill-rule=\"evenodd\" fill-opacity=\"1\" /><path clip-path=\"url(#clip990)\" d=\"M 0 0 M2281.3 1505.36 L2299.66 1505.36 L2299.66 1509.3 L2285.58 1509.3 L2285.58 1517.77 Q2286.6 1517.42 2287.62 1517.26 Q2288.64 1517.07 2289.66 1517.07 Q2295.44 1517.07 2298.82 1520.24 Q2302.2 1523.42 2302.2 1528.83 Q2302.2 1534.41 2298.73 1537.51 Q2295.26 1540.59 2288.94 1540.59 Q2286.76 1540.59 2284.5 1540.22 Q2282.25 1539.85 2279.84 1539.11 L2279.84 1534.41 Q2281.93 1535.54 2284.15 1536.1 Q2286.37 1536.66 2288.85 1536.66 Q2292.85 1536.66 2295.19 1534.55 Q2297.53 1532.44 2297.53 1528.83 Q2297.53 1525.22 2295.19 1523.11 Q2292.85 1521.01 2288.85 1521.01 Q2286.97 1521.01 2285.1 1521.42 Q2283.25 1521.84 2281.3 1522.72 L2281.3 1505.36 Z\" fill=\"#000000\" fill-rule=\"evenodd\" fill-opacity=\"1\" /><path clip-path=\"url(#clip990)\" d=\"M 0 0 M98.6401 1431.51 Q95.029 1431.51 93.2003 1435.08 Q91.3948 1438.62 91.3948 1445.75 Q91.3948 1452.86 93.2003 1456.42 Q95.029 1459.96 98.6401 1459.96 Q102.274 1459.96 104.08 1456.42 Q105.909 1452.86 105.909 1445.75 Q105.909 1438.62 104.08 1435.08 Q102.274 1431.51 98.6401 1431.51 M98.6401 1427.81 Q104.45 1427.81 107.506 1432.42 Q110.584 1437 110.584 1445.75 Q110.584 1454.48 107.506 1459.08 Q104.45 1463.67 98.6401 1463.67 Q92.8299 1463.67 89.7512 1459.08 Q86.6957 1454.48 86.6957 1445.75 Q86.6957 1437 89.7512 1432.42 Q92.8299 1427.81 98.6401 1427.81 Z\" fill=\"#000000\" fill-rule=\"evenodd\" fill-opacity=\"1\" /><path clip-path=\"url(#clip990)\" d=\"M 0 0 M115.654 1457.12 L120.538 1457.12 L120.538 1463 L115.654 1463 L115.654 1457.12 Z\" fill=\"#000000\" fill-rule=\"evenodd\" fill-opacity=\"1\" /><path clip-path=\"url(#clip990)\" d=\"M 0 0 M135.607 1431.51 Q131.996 1431.51 130.168 1435.08 Q128.362 1438.62 128.362 1445.75 Q128.362 1452.86 130.168 1456.42 Q131.996 1459.96 135.607 1459.96 Q139.242 1459.96 141.047 1456.42 Q142.876 1452.86 142.876 1445.75 Q142.876 1438.62 141.047 1435.08 Q139.242 1431.51 135.607 1431.51 M135.607 1427.81 Q141.418 1427.81 144.473 1432.42 Q147.552 1437 147.552 1445.75 Q147.552 1454.48 144.473 1459.08 Q141.418 1463.67 135.607 1463.67 Q129.797 1463.67 126.719 1459.08 Q123.663 1454.48 123.663 1445.75 Q123.663 1437 126.719 1432.42 Q129.797 1427.81 135.607 1427.81 Z\" fill=\"#000000\" fill-rule=\"evenodd\" fill-opacity=\"1\" /><path clip-path=\"url(#clip990)\" d=\"M 0 0 M95.2605 1119.63 L111.58 1119.63 L111.58 1123.56 L89.6355 1123.56 L89.6355 1119.63 Q92.2975 1116.87 96.8808 1112.24 Q101.487 1107.59 102.668 1106.25 Q104.913 1103.72 105.793 1101.99 Q106.696 1100.23 106.696 1098.54 Q106.696 1095.78 104.751 1094.05 Q102.83 1092.31 99.728 1092.31 Q97.529 1092.31 95.0753 1093.07 Q92.6447 1093.84 89.867 1095.39 L89.867 1090.67 Q92.691 1089.53 95.1447 1088.95 Q97.5984 1088.38 99.6354 1088.38 Q105.006 1088.38 108.2 1091.06 Q111.395 1093.75 111.395 1098.24 Q111.395 1100.37 110.584 1102.29 Q109.797 1104.19 107.691 1106.78 Q107.112 1107.45 104.01 1110.67 Q100.909 1113.86 95.2605 1119.63 Z\" fill=\"#000000\" fill-rule=\"evenodd\" fill-opacity=\"1\" /><path clip-path=\"url(#clip990)\" d=\"M 0 0 M116.649 1117.68 L121.533 1117.68 L121.533 1123.56 L116.649 1123.56 L116.649 1117.68 Z\" fill=\"#000000\" fill-rule=\"evenodd\" fill-opacity=\"1\" /><path clip-path=\"url(#clip990)\" d=\"M 0 0 M126.649 1089 L145.006 1089 L145.006 1092.94 L130.932 1092.94 L130.932 1101.41 Q131.95 1101.06 132.969 1100.9 Q133.987 1100.71 135.006 1100.71 Q140.793 1100.71 144.172 1103.89 Q147.552 1107.06 147.552 1112.47 Q147.552 1118.05 144.08 1121.15 Q140.607 1124.23 134.288 1124.23 Q132.112 1124.23 129.844 1123.86 Q127.598 1123.49 125.191 1122.75 L125.191 1118.05 Q127.274 1119.19 129.496 1119.74 Q131.719 1120.3 134.195 1120.3 Q138.2 1120.3 140.538 1118.19 Q142.876 1116.08 142.876 1112.47 Q142.876 1108.86 140.538 1106.76 Q138.2 1104.65 134.195 1104.65 Q132.32 1104.65 130.445 1105.07 Q128.594 1105.48 126.649 1106.36 L126.649 1089 Z\" fill=\"#000000\" fill-rule=\"evenodd\" fill-opacity=\"1\" /><path clip-path=\"url(#clip990)\" d=\"M 0 0 M89.6818 749.566 L108.038 749.566 L108.038 753.501 L93.9642 753.501 L93.9642 761.973 Q94.9827 761.626 96.0012 761.464 Q97.0197 761.279 98.0382 761.279 Q103.825 761.279 107.205 764.45 Q110.584 767.621 110.584 773.038 Q110.584 778.617 107.112 781.719 Q103.64 784.797 97.3206 784.797 Q95.1447 784.797 92.8762 784.427 Q90.6309 784.057 88.2235 783.316 L88.2235 778.617 Q90.3068 779.751 92.529 780.307 Q94.7512 780.862 97.2281 780.862 Q101.233 780.862 103.571 778.756 Q105.909 776.649 105.909 773.038 Q105.909 769.427 103.571 767.321 Q101.233 765.214 97.2281 765.214 Q95.3531 765.214 93.4781 765.631 Q91.6262 766.047 89.6818 766.927 L89.6818 749.566 Z\" fill=\"#000000\" fill-rule=\"evenodd\" fill-opacity=\"1\" /><path clip-path=\"url(#clip990)\" d=\"M 0 0 M115.654 778.246 L120.538 778.246 L120.538 784.126 L115.654 784.126 L115.654 778.246 Z\" fill=\"#000000\" fill-rule=\"evenodd\" fill-opacity=\"1\" /><path clip-path=\"url(#clip990)\" d=\"M 0 0 M135.607 752.645 Q131.996 752.645 130.168 756.209 Q128.362 759.751 128.362 766.881 Q128.362 773.987 130.168 777.552 Q131.996 781.094 135.607 781.094 Q139.242 781.094 141.047 777.552 Q142.876 773.987 142.876 766.881 Q142.876 759.751 141.047 756.209 Q139.242 752.645 135.607 752.645 M135.607 748.941 Q141.418 748.941 144.473 753.547 Q147.552 758.131 147.552 766.881 Q147.552 775.608 144.473 780.214 Q141.418 784.797 135.607 784.797 Q129.797 784.797 126.719 780.214 Q123.663 775.608 123.663 766.881 Q123.663 758.131 126.719 753.547 Q129.797 748.941 135.607 748.941 Z\" fill=\"#000000\" fill-rule=\"evenodd\" fill-opacity=\"1\" /><path clip-path=\"url(#clip990)\" d=\"M 0 0 M89.3577 410.131 L111.58 410.131 L111.58 412.122 L99.0336 444.691 L94.1494 444.691 L105.955 414.066 L89.3577 414.066 L89.3577 410.131 Z\" fill=\"#000000\" fill-rule=\"evenodd\" fill-opacity=\"1\" /><path clip-path=\"url(#clip990)\" d=\"M 0 0 M116.649 438.812 L121.533 438.812 L121.533 444.691 L116.649 444.691 L116.649 438.812 Z\" fill=\"#000000\" fill-rule=\"evenodd\" fill-opacity=\"1\" /><path clip-path=\"url(#clip990)\" d=\"M 0 0 M126.649 410.131 L145.006 410.131 L145.006 414.066 L130.932 414.066 L130.932 422.538 Q131.95 422.191 132.969 422.029 Q133.987 421.844 135.006 421.844 Q140.793 421.844 144.172 425.015 Q147.552 428.187 147.552 433.603 Q147.552 439.182 144.08 442.284 Q140.607 445.362 134.288 445.362 Q132.112 445.362 129.844 444.992 Q127.598 444.622 125.191 443.881 L125.191 439.182 Q127.274 440.316 129.496 440.872 Q131.719 441.427 134.195 441.427 Q138.2 441.427 140.538 439.321 Q142.876 437.214 142.876 433.603 Q142.876 429.992 140.538 427.886 Q138.2 425.779 134.195 425.779 Q132.32 425.779 130.445 426.196 Q128.594 426.613 126.649 427.492 L126.649 410.131 Z\" fill=\"#000000\" fill-rule=\"evenodd\" fill-opacity=\"1\" /><path clip-path=\"url(#clip990)\" d=\"M 0 0 M63.6634 101.321 L71.3023 101.321 L71.3023 74.9555 L62.9921 76.6222 L62.9921 72.3629 L71.256 70.6963 L75.9319 70.6963 L75.9319 101.321 L83.5707 101.321 L83.5707 105.256 L63.6634 105.256 L63.6634 101.321 Z\" fill=\"#000000\" fill-rule=\"evenodd\" fill-opacity=\"1\" /><path clip-path=\"url(#clip990)\" d=\"M 0 0 M98.6401 73.775 Q95.029 73.775 93.2003 77.3398 Q91.3948 80.8814 91.3948 88.011 Q91.3948 95.1174 93.2003 98.6822 Q95.029 102.224 98.6401 102.224 Q102.274 102.224 104.08 98.6822 Q105.909 95.1174 105.909 88.011 Q105.909 80.8814 104.08 77.3398 Q102.274 73.775 98.6401 73.775 M98.6401 70.0713 Q104.45 70.0713 107.506 74.6777 Q110.584 79.261 110.584 88.011 Q110.584 96.7378 107.506 101.344 Q104.45 105.928 98.6401 105.928 Q92.8299 105.928 89.7512 101.344 Q86.6957 96.7378 86.6957 88.011 Q86.6957 79.261 89.7512 74.6777 Q92.8299 70.0713 98.6401 70.0713 Z\" fill=\"#000000\" fill-rule=\"evenodd\" fill-opacity=\"1\" /><path clip-path=\"url(#clip990)\" d=\"M 0 0 M115.654 99.3767 L120.538 99.3767 L120.538 105.256 L115.654 105.256 L115.654 99.3767 Z\" fill=\"#000000\" fill-rule=\"evenodd\" fill-opacity=\"1\" /><path clip-path=\"url(#clip990)\" d=\"M 0 0 M135.607 73.775 Q131.996 73.775 130.168 77.3398 Q128.362 80.8814 128.362 88.011 Q128.362 95.1174 130.168 98.6822 Q131.996 102.224 135.607 102.224 Q139.242 102.224 141.047 98.6822 Q142.876 95.1174 142.876 88.011 Q142.876 80.8814 141.047 77.3398 Q139.242 73.775 135.607 73.775 M135.607 70.0713 Q141.418 70.0713 144.473 74.6777 Q147.552 79.261 147.552 88.011 Q147.552 96.7378 144.473 101.344 Q141.418 105.928 135.607 105.928 Q129.797 105.928 126.719 101.344 Q123.663 96.7378 123.663 88.011 Q123.663 79.261 126.719 74.6777 Q129.797 70.0713 135.607 70.0713 Z\" fill=\"#000000\" fill-rule=\"evenodd\" fill-opacity=\"1\" /><polyline clip-path=\"url(#clip992)\" style=\"stroke:#009af9; stroke-width:4; stroke-opacity:1; fill:none\" points=\"\n",
       "  233.284,1445.72 644.832,1174.17 1056.38,902.62 1467.93,631.072 1879.48,359.524 2291.02,87.9763 \n",
       "  \"/>\n",
       "<path clip-path=\"url(#clip990)\" d=\"\n",
       "M1986.67 216.178 L2280.05 216.178 L2280.05 95.2176 L1986.67 95.2176  Z\n",
       "  \" fill=\"#ffffff\" fill-rule=\"evenodd\" fill-opacity=\"1\"/>\n",
       "<polyline clip-path=\"url(#clip990)\" style=\"stroke:#000000; stroke-width:4; stroke-opacity:1; fill:none\" points=\"\n",
       "  1986.67,216.178 2280.05,216.178 2280.05,95.2176 1986.67,95.2176 1986.67,216.178 \n",
       "  \"/>\n",
       "<polyline clip-path=\"url(#clip990)\" style=\"stroke:#009af9; stroke-width:4; stroke-opacity:1; fill:none\" points=\"\n",
       "  2010.91,155.698 2156.32,155.698 \n",
       "  \"/>\n",
       "<path clip-path=\"url(#clip990)\" d=\"M 0 0 M2194.4 175.385 Q2192.6 180.015 2190.88 181.427 Q2189.17 182.839 2186.3 182.839 L2182.9 182.839 L2182.9 179.274 L2185.4 179.274 Q2187.16 179.274 2188.13 178.44 Q2189.1 177.607 2190.28 174.505 L2191.05 172.561 L2180.56 147.052 L2185.07 147.052 L2193.18 167.329 L2201.28 147.052 L2205.79 147.052 L2194.4 175.385 Z\" fill=\"#000000\" fill-rule=\"evenodd\" fill-opacity=\"1\" /><path clip-path=\"url(#clip990)\" d=\"M 0 0 M2211.67 169.042 L2219.31 169.042 L2219.31 142.677 L2211 144.343 L2211 140.084 L2219.26 138.418 L2223.94 138.418 L2223.94 169.042 L2231.58 169.042 L2231.58 172.978 L2211.67 172.978 L2211.67 169.042 Z\" fill=\"#000000\" fill-rule=\"evenodd\" fill-opacity=\"1\" /></svg>\n"
      ]
     },
     "execution_count": 39,
     "metadata": {},
     "output_type": "execute_result"
    }
   ],
   "source": [
    "#of course, because we have f defined, we don't need to do the calculation by hand:\n",
    "plot([0,1,2,3,4,5],\n",
    "    f.([0,1,2,3,4,5]))"
   ]
  },
  {
   "cell_type": "code",
   "execution_count": 9,
   "metadata": {},
   "outputs": [
    {
     "output_type": "execute_result",
     "data": {
      "image/svg+xml": "<?xml version=\"1.0\" encoding=\"utf-8\"?>\n<svg xmlns=\"http://www.w3.org/2000/svg\" xmlns:xlink=\"http://www.w3.org/1999/xlink\" width=\"600\" height=\"400\" viewBox=\"0 0 2400 1600\">\n<defs>\n  <clipPath id=\"clip120\">\n    <rect x=\"0\" y=\"0\" width=\"2400\" height=\"1600\"/>\n  </clipPath>\n</defs>\n<path clip-path=\"url(#clip120)\" d=\"\nM0 1600 L2400 1600 L2400 0 L0 0  Z\n  \" fill=\"#ffffff\" fill-rule=\"evenodd\" fill-opacity=\"1\"/>\n<defs>\n  <clipPath id=\"clip121\">\n    <rect x=\"480\" y=\"0\" width=\"1681\" height=\"1600\"/>\n  </clipPath>\n</defs>\n<path clip-path=\"url(#clip120)\" d=\"\nM171.552 1486.45 L2352.76 1486.45 L2352.76 47.2441 L171.552 47.2441  Z\n  \" fill=\"#ffffff\" fill-rule=\"evenodd\" fill-opacity=\"1\"/>\n<defs>\n  <clipPath id=\"clip122\">\n    <rect x=\"171\" y=\"47\" width=\"2182\" height=\"1440\"/>\n  </clipPath>\n</defs>\n<polyline clip-path=\"url(#clip122)\" style=\"stroke:#000000; stroke-width:2; stroke-opacity:0.1; fill:none\" points=\"\n  233.284,1486.45 233.284,47.2441 \n  \"/>\n<polyline clip-path=\"url(#clip122)\" style=\"stroke:#000000; stroke-width:2; stroke-opacity:0.1; fill:none\" points=\"\n  644.832,1486.45 644.832,47.2441 \n  \"/>\n<polyline clip-path=\"url(#clip122)\" style=\"stroke:#000000; stroke-width:2; stroke-opacity:0.1; fill:none\" points=\"\n  1056.38,1486.45 1056.38,47.2441 \n  \"/>\n<polyline clip-path=\"url(#clip122)\" style=\"stroke:#000000; stroke-width:2; stroke-opacity:0.1; fill:none\" points=\"\n  1467.93,1486.45 1467.93,47.2441 \n  \"/>\n<polyline clip-path=\"url(#clip122)\" style=\"stroke:#000000; stroke-width:2; stroke-opacity:0.1; fill:none\" points=\"\n  1879.48,1486.45 1879.48,47.2441 \n  \"/>\n<polyline clip-path=\"url(#clip122)\" style=\"stroke:#000000; stroke-width:2; stroke-opacity:0.1; fill:none\" points=\"\n  2291.02,1486.45 2291.02,47.2441 \n  \"/>\n<polyline clip-path=\"url(#clip122)\" style=\"stroke:#000000; stroke-width:2; stroke-opacity:0.1; fill:none\" points=\"\n  171.552,1445.72 2352.76,1445.72 \n  \"/>\n<polyline clip-path=\"url(#clip122)\" style=\"stroke:#000000; stroke-width:2; stroke-opacity:0.1; fill:none\" points=\"\n  171.552,1106.28 2352.76,1106.28 \n  \"/>\n<polyline clip-path=\"url(#clip122)\" style=\"stroke:#000000; stroke-width:2; stroke-opacity:0.1; fill:none\" points=\"\n  171.552,766.846 2352.76,766.846 \n  \"/>\n<polyline clip-path=\"url(#clip122)\" style=\"stroke:#000000; stroke-width:2; stroke-opacity:0.1; fill:none\" points=\"\n  171.552,427.411 2352.76,427.411 \n  \"/>\n<polyline clip-path=\"url(#clip122)\" style=\"stroke:#000000; stroke-width:2; stroke-opacity:0.1; fill:none\" points=\"\n  171.552,87.9763 2352.76,87.9763 \n  \"/>\n<polyline clip-path=\"url(#clip120)\" style=\"stroke:#000000; stroke-width:4; stroke-opacity:1; fill:none\" points=\"\n  171.552,1486.45 2352.76,1486.45 \n  \"/>\n<polyline clip-path=\"url(#clip120)\" style=\"stroke:#000000; stroke-width:4; stroke-opacity:1; fill:none\" points=\"\n  171.552,1486.45 171.552,47.2441 \n  \"/>\n<polyline clip-path=\"url(#clip120)\" style=\"stroke:#000000; stroke-width:4; stroke-opacity:1; fill:none\" points=\"\n  233.284,1486.45 233.284,1469.18 \n  \"/>\n<polyline clip-path=\"url(#clip120)\" style=\"stroke:#000000; stroke-width:4; stroke-opacity:1; fill:none\" points=\"\n  644.832,1486.45 644.832,1469.18 \n  \"/>\n<polyline clip-path=\"url(#clip120)\" style=\"stroke:#000000; stroke-width:4; stroke-opacity:1; fill:none\" points=\"\n  1056.38,1486.45 1056.38,1469.18 \n  \"/>\n<polyline clip-path=\"url(#clip120)\" style=\"stroke:#000000; stroke-width:4; stroke-opacity:1; fill:none\" points=\"\n  1467.93,1486.45 1467.93,1469.18 \n  \"/>\n<polyline clip-path=\"url(#clip120)\" style=\"stroke:#000000; stroke-width:4; stroke-opacity:1; fill:none\" points=\"\n  1879.48,1486.45 1879.48,1469.18 \n  \"/>\n<polyline clip-path=\"url(#clip120)\" style=\"stroke:#000000; stroke-width:4; stroke-opacity:1; fill:none\" points=\"\n  2291.02,1486.45 2291.02,1469.18 \n  \"/>\n<polyline clip-path=\"url(#clip120)\" style=\"stroke:#000000; stroke-width:4; stroke-opacity:1; fill:none\" points=\"\n  171.552,1445.72 197.726,1445.72 \n  \"/>\n<polyline clip-path=\"url(#clip120)\" style=\"stroke:#000000; stroke-width:4; stroke-opacity:1; fill:none\" points=\"\n  171.552,1106.28 197.726,1106.28 \n  \"/>\n<polyline clip-path=\"url(#clip120)\" style=\"stroke:#000000; stroke-width:4; stroke-opacity:1; fill:none\" points=\"\n  171.552,766.846 197.726,766.846 \n  \"/>\n<polyline clip-path=\"url(#clip120)\" style=\"stroke:#000000; stroke-width:4; stroke-opacity:1; fill:none\" points=\"\n  171.552,427.411 197.726,427.411 \n  \"/>\n<polyline clip-path=\"url(#clip120)\" style=\"stroke:#000000; stroke-width:4; stroke-opacity:1; fill:none\" points=\"\n  171.552,87.9763 197.726,87.9763 \n  \"/>\n<path clip-path=\"url(#clip120)\" d=\"M 0 0 M233.284 1508.44 Q229.673 1508.44 227.844 1512 Q226.039 1515.55 226.039 1522.67 Q226.039 1529.78 227.844 1533.35 Q229.673 1536.89 233.284 1536.89 Q236.918 1536.89 238.724 1533.35 Q240.553 1529.78 240.553 1522.67 Q240.553 1515.55 238.724 1512 Q236.918 1508.44 233.284 1508.44 M233.284 1504.73 Q239.094 1504.73 242.15 1509.34 Q245.228 1513.92 245.228 1522.67 Q245.228 1531.4 242.15 1536.01 Q239.094 1540.59 233.284 1540.59 Q227.474 1540.59 224.395 1536.01 Q221.34 1531.4 221.34 1522.67 Q221.34 1513.92 224.395 1509.34 Q227.474 1504.73 233.284 1504.73 Z\" fill=\"#000000\" fill-rule=\"evenodd\" fill-opacity=\"1\" /><path clip-path=\"url(#clip120)\" d=\"M 0 0 M635.214 1535.98 L642.853 1535.98 L642.853 1509.62 L634.543 1511.29 L634.543 1507.03 L642.807 1505.36 L647.482 1505.36 L647.482 1535.98 L655.121 1535.98 L655.121 1539.92 L635.214 1539.92 L635.214 1535.98 Z\" fill=\"#000000\" fill-rule=\"evenodd\" fill-opacity=\"1\" /><path clip-path=\"url(#clip120)\" d=\"M 0 0 M1051.03 1535.98 L1067.35 1535.98 L1067.35 1539.92 L1045.41 1539.92 L1045.41 1535.98 Q1048.07 1533.23 1052.65 1528.6 Q1057.26 1523.95 1058.44 1522.61 Q1060.69 1520.08 1061.57 1518.35 Q1062.47 1516.59 1062.47 1514.9 Q1062.47 1512.14 1060.52 1510.41 Q1058.6 1508.67 1055.5 1508.67 Q1053.3 1508.67 1050.85 1509.43 Q1048.42 1510.2 1045.64 1511.75 L1045.64 1507.03 Q1048.46 1505.89 1050.92 1505.31 Q1053.37 1504.73 1055.41 1504.73 Q1060.78 1504.73 1063.97 1507.42 Q1067.17 1510.11 1067.17 1514.6 Q1067.17 1516.73 1066.36 1518.65 Q1065.57 1520.54 1063.46 1523.14 Q1062.88 1523.81 1059.78 1527.03 Q1056.68 1530.22 1051.03 1535.98 Z\" fill=\"#000000\" fill-rule=\"evenodd\" fill-opacity=\"1\" /><path clip-path=\"url(#clip120)\" d=\"M 0 0 M1472.18 1521.29 Q1475.53 1522 1477.41 1524.27 Q1479.31 1526.54 1479.31 1529.87 Q1479.31 1534.99 1475.79 1537.79 Q1472.27 1540.59 1465.79 1540.59 Q1463.61 1540.59 1461.3 1540.15 Q1459 1539.73 1456.55 1538.88 L1456.55 1534.36 Q1458.5 1535.5 1460.81 1536.08 Q1463.12 1536.66 1465.65 1536.66 Q1470.05 1536.66 1472.34 1534.92 Q1474.65 1533.18 1474.65 1529.87 Q1474.65 1526.82 1472.5 1525.11 Q1470.37 1523.37 1466.55 1523.37 L1462.52 1523.37 L1462.52 1519.53 L1466.74 1519.53 Q1470.18 1519.53 1472.01 1518.16 Q1473.84 1516.77 1473.84 1514.18 Q1473.84 1511.52 1471.94 1510.11 Q1470.07 1508.67 1466.55 1508.67 Q1464.63 1508.67 1462.43 1509.09 Q1460.23 1509.5 1457.59 1510.38 L1457.59 1506.22 Q1460.25 1505.48 1462.57 1505.11 Q1464.91 1504.73 1466.97 1504.73 Q1472.29 1504.73 1475.39 1507.17 Q1478.49 1509.57 1478.49 1513.69 Q1478.49 1516.56 1476.85 1518.55 Q1475.21 1520.52 1472.18 1521.29 Z\" fill=\"#000000\" fill-rule=\"evenodd\" fill-opacity=\"1\" /><path clip-path=\"url(#clip120)\" d=\"M 0 0 M1882.49 1509.43 L1870.68 1527.88 L1882.49 1527.88 L1882.49 1509.43 M1881.26 1505.36 L1887.14 1505.36 L1887.14 1527.88 L1892.07 1527.88 L1892.07 1531.77 L1887.14 1531.77 L1887.14 1539.92 L1882.49 1539.92 L1882.49 1531.77 L1866.88 1531.77 L1866.88 1527.26 L1881.26 1505.36 Z\" fill=\"#000000\" fill-rule=\"evenodd\" fill-opacity=\"1\" /><path clip-path=\"url(#clip120)\" d=\"M 0 0 M2281.3 1505.36 L2299.66 1505.36 L2299.66 1509.3 L2285.58 1509.3 L2285.58 1517.77 Q2286.6 1517.42 2287.62 1517.26 Q2288.64 1517.07 2289.66 1517.07 Q2295.44 1517.07 2298.82 1520.24 Q2302.2 1523.42 2302.2 1528.83 Q2302.2 1534.41 2298.73 1537.51 Q2295.26 1540.59 2288.94 1540.59 Q2286.76 1540.59 2284.5 1540.22 Q2282.25 1539.85 2279.84 1539.11 L2279.84 1534.41 Q2281.93 1535.54 2284.15 1536.1 Q2286.37 1536.66 2288.85 1536.66 Q2292.85 1536.66 2295.19 1534.55 Q2297.53 1532.44 2297.53 1528.83 Q2297.53 1525.22 2295.19 1523.11 Q2292.85 1521.01 2288.85 1521.01 Q2286.97 1521.01 2285.1 1521.42 Q2283.25 1521.84 2281.3 1522.72 L2281.3 1505.36 Z\" fill=\"#000000\" fill-rule=\"evenodd\" fill-opacity=\"1\" /><path clip-path=\"url(#clip120)\" d=\"M 0 0 M98.6401 1431.51 Q95.029 1431.51 93.2003 1435.08 Q91.3948 1438.62 91.3948 1445.75 Q91.3948 1452.86 93.2003 1456.42 Q95.029 1459.96 98.6401 1459.96 Q102.274 1459.96 104.08 1456.42 Q105.909 1452.86 105.909 1445.75 Q105.909 1438.62 104.08 1435.08 Q102.274 1431.51 98.6401 1431.51 M98.6401 1427.81 Q104.45 1427.81 107.506 1432.42 Q110.584 1437 110.584 1445.75 Q110.584 1454.48 107.506 1459.08 Q104.45 1463.67 98.6401 1463.67 Q92.8299 1463.67 89.7512 1459.08 Q86.6957 1454.48 86.6957 1445.75 Q86.6957 1437 89.7512 1432.42 Q92.8299 1427.81 98.6401 1427.81 Z\" fill=\"#000000\" fill-rule=\"evenodd\" fill-opacity=\"1\" /><path clip-path=\"url(#clip120)\" d=\"M 0 0 M115.654 1457.12 L120.538 1457.12 L120.538 1463 L115.654 1463 L115.654 1457.12 Z\" fill=\"#000000\" fill-rule=\"evenodd\" fill-opacity=\"1\" /><path clip-path=\"url(#clip120)\" d=\"M 0 0 M135.607 1431.51 Q131.996 1431.51 130.168 1435.08 Q128.362 1438.62 128.362 1445.75 Q128.362 1452.86 130.168 1456.42 Q131.996 1459.96 135.607 1459.96 Q139.242 1459.96 141.047 1456.42 Q142.876 1452.86 142.876 1445.75 Q142.876 1438.62 141.047 1435.08 Q139.242 1431.51 135.607 1431.51 M135.607 1427.81 Q141.418 1427.81 144.473 1432.42 Q147.552 1437 147.552 1445.75 Q147.552 1454.48 144.473 1459.08 Q141.418 1463.67 135.607 1463.67 Q129.797 1463.67 126.719 1459.08 Q123.663 1454.48 123.663 1445.75 Q123.663 1437 126.719 1432.42 Q129.797 1427.81 135.607 1427.81 Z\" fill=\"#000000\" fill-rule=\"evenodd\" fill-opacity=\"1\" /><path clip-path=\"url(#clip120)\" d=\"M 0 0 M95.2605 1119.63 L111.58 1119.63 L111.58 1123.56 L89.6355 1123.56 L89.6355 1119.63 Q92.2975 1116.87 96.8808 1112.24 Q101.487 1107.59 102.668 1106.25 Q104.913 1103.72 105.793 1101.99 Q106.696 1100.23 106.696 1098.54 Q106.696 1095.78 104.751 1094.05 Q102.83 1092.31 99.728 1092.31 Q97.529 1092.31 95.0753 1093.07 Q92.6447 1093.84 89.867 1095.39 L89.867 1090.67 Q92.691 1089.53 95.1447 1088.95 Q97.5984 1088.38 99.6354 1088.38 Q105.006 1088.38 108.2 1091.06 Q111.395 1093.75 111.395 1098.24 Q111.395 1100.37 110.584 1102.29 Q109.797 1104.19 107.691 1106.78 Q107.112 1107.45 104.01 1110.67 Q100.909 1113.86 95.2605 1119.63 Z\" fill=\"#000000\" fill-rule=\"evenodd\" fill-opacity=\"1\" /><path clip-path=\"url(#clip120)\" d=\"M 0 0 M116.649 1117.68 L121.533 1117.68 L121.533 1123.56 L116.649 1123.56 L116.649 1117.68 Z\" fill=\"#000000\" fill-rule=\"evenodd\" fill-opacity=\"1\" /><path clip-path=\"url(#clip120)\" d=\"M 0 0 M126.649 1089 L145.006 1089 L145.006 1092.94 L130.932 1092.94 L130.932 1101.41 Q131.95 1101.06 132.969 1100.9 Q133.987 1100.71 135.006 1100.71 Q140.793 1100.71 144.172 1103.89 Q147.552 1107.06 147.552 1112.47 Q147.552 1118.05 144.08 1121.15 Q140.607 1124.23 134.288 1124.23 Q132.112 1124.23 129.844 1123.86 Q127.598 1123.49 125.191 1122.75 L125.191 1118.05 Q127.274 1119.19 129.496 1119.74 Q131.719 1120.3 134.195 1120.3 Q138.2 1120.3 140.538 1118.19 Q142.876 1116.08 142.876 1112.47 Q142.876 1108.86 140.538 1106.76 Q138.2 1104.65 134.195 1104.65 Q132.32 1104.65 130.445 1105.07 Q128.594 1105.48 126.649 1106.36 L126.649 1089 Z\" fill=\"#000000\" fill-rule=\"evenodd\" fill-opacity=\"1\" /><path clip-path=\"url(#clip120)\" d=\"M 0 0 M89.6818 749.566 L108.038 749.566 L108.038 753.501 L93.9642 753.501 L93.9642 761.973 Q94.9827 761.626 96.0012 761.464 Q97.0197 761.279 98.0382 761.279 Q103.825 761.279 107.205 764.45 Q110.584 767.621 110.584 773.038 Q110.584 778.617 107.112 781.719 Q103.64 784.797 97.3206 784.797 Q95.1447 784.797 92.8762 784.427 Q90.6309 784.057 88.2235 783.316 L88.2235 778.617 Q90.3068 779.751 92.529 780.307 Q94.7512 780.862 97.2281 780.862 Q101.233 780.862 103.571 778.756 Q105.909 776.649 105.909 773.038 Q105.909 769.427 103.571 767.321 Q101.233 765.214 97.2281 765.214 Q95.3531 765.214 93.4781 765.631 Q91.6262 766.047 89.6818 766.927 L89.6818 749.566 Z\" fill=\"#000000\" fill-rule=\"evenodd\" fill-opacity=\"1\" /><path clip-path=\"url(#clip120)\" d=\"M 0 0 M115.654 778.246 L120.538 778.246 L120.538 784.126 L115.654 784.126 L115.654 778.246 Z\" fill=\"#000000\" fill-rule=\"evenodd\" fill-opacity=\"1\" /><path clip-path=\"url(#clip120)\" d=\"M 0 0 M135.607 752.645 Q131.996 752.645 130.168 756.209 Q128.362 759.751 128.362 766.881 Q128.362 773.987 130.168 777.552 Q131.996 781.094 135.607 781.094 Q139.242 781.094 141.047 777.552 Q142.876 773.987 142.876 766.881 Q142.876 759.751 141.047 756.209 Q139.242 752.645 135.607 752.645 M135.607 748.941 Q141.418 748.941 144.473 753.547 Q147.552 758.131 147.552 766.881 Q147.552 775.608 144.473 780.214 Q141.418 784.797 135.607 784.797 Q129.797 784.797 126.719 780.214 Q123.663 775.608 123.663 766.881 Q123.663 758.131 126.719 753.547 Q129.797 748.941 135.607 748.941 Z\" fill=\"#000000\" fill-rule=\"evenodd\" fill-opacity=\"1\" /><path clip-path=\"url(#clip120)\" d=\"M 0 0 M89.3577 410.131 L111.58 410.131 L111.58 412.122 L99.0336 444.691 L94.1494 444.691 L105.955 414.066 L89.3577 414.066 L89.3577 410.131 Z\" fill=\"#000000\" fill-rule=\"evenodd\" fill-opacity=\"1\" /><path clip-path=\"url(#clip120)\" d=\"M 0 0 M116.649 438.812 L121.533 438.812 L121.533 444.691 L116.649 444.691 L116.649 438.812 Z\" fill=\"#000000\" fill-rule=\"evenodd\" fill-opacity=\"1\" /><path clip-path=\"url(#clip120)\" d=\"M 0 0 M126.649 410.131 L145.006 410.131 L145.006 414.066 L130.932 414.066 L130.932 422.538 Q131.95 422.191 132.969 422.029 Q133.987 421.844 135.006 421.844 Q140.793 421.844 144.172 425.015 Q147.552 428.187 147.552 433.603 Q147.552 439.182 144.08 442.284 Q140.607 445.362 134.288 445.362 Q132.112 445.362 129.844 444.992 Q127.598 444.622 125.191 443.881 L125.191 439.182 Q127.274 440.316 129.496 440.872 Q131.719 441.427 134.195 441.427 Q138.2 441.427 140.538 439.321 Q142.876 437.214 142.876 433.603 Q142.876 429.992 140.538 427.886 Q138.2 425.779 134.195 425.779 Q132.32 425.779 130.445 426.196 Q128.594 426.613 126.649 427.492 L126.649 410.131 Z\" fill=\"#000000\" fill-rule=\"evenodd\" fill-opacity=\"1\" /><path clip-path=\"url(#clip120)\" d=\"M 0 0 M63.6634 101.321 L71.3023 101.321 L71.3023 74.9555 L62.9921 76.6222 L62.9921 72.3629 L71.256 70.6963 L75.9319 70.6963 L75.9319 101.321 L83.5707 101.321 L83.5707 105.256 L63.6634 105.256 L63.6634 101.321 Z\" fill=\"#000000\" fill-rule=\"evenodd\" fill-opacity=\"1\" /><path clip-path=\"url(#clip120)\" d=\"M 0 0 M98.6401 73.775 Q95.029 73.775 93.2003 77.3398 Q91.3948 80.8814 91.3948 88.011 Q91.3948 95.1174 93.2003 98.6822 Q95.029 102.224 98.6401 102.224 Q102.274 102.224 104.08 98.6822 Q105.909 95.1174 105.909 88.011 Q105.909 80.8814 104.08 77.3398 Q102.274 73.775 98.6401 73.775 M98.6401 70.0713 Q104.45 70.0713 107.506 74.6777 Q110.584 79.261 110.584 88.011 Q110.584 96.7378 107.506 101.344 Q104.45 105.928 98.6401 105.928 Q92.8299 105.928 89.7512 101.344 Q86.6957 96.7378 86.6957 88.011 Q86.6957 79.261 89.7512 74.6777 Q92.8299 70.0713 98.6401 70.0713 Z\" fill=\"#000000\" fill-rule=\"evenodd\" fill-opacity=\"1\" /><path clip-path=\"url(#clip120)\" d=\"M 0 0 M115.654 99.3767 L120.538 99.3767 L120.538 105.256 L115.654 105.256 L115.654 99.3767 Z\" fill=\"#000000\" fill-rule=\"evenodd\" fill-opacity=\"1\" /><path clip-path=\"url(#clip120)\" d=\"M 0 0 M135.607 73.775 Q131.996 73.775 130.168 77.3398 Q128.362 80.8814 128.362 88.011 Q128.362 95.1174 130.168 98.6822 Q131.996 102.224 135.607 102.224 Q139.242 102.224 141.047 98.6822 Q142.876 95.1174 142.876 88.011 Q142.876 80.8814 141.047 77.3398 Q139.242 73.775 135.607 73.775 M135.607 70.0713 Q141.418 70.0713 144.473 74.6777 Q147.552 79.261 147.552 88.011 Q147.552 96.7378 144.473 101.344 Q141.418 105.928 135.607 105.928 Q129.797 105.928 126.719 101.344 Q123.663 96.7378 123.663 88.011 Q123.663 79.261 126.719 74.6777 Q129.797 70.0713 135.607 70.0713 Z\" fill=\"#000000\" fill-rule=\"evenodd\" fill-opacity=\"1\" /><polyline clip-path=\"url(#clip122)\" style=\"stroke:#009af9; stroke-width:4; stroke-opacity:1; fill:none\" points=\"\n  233.284,1445.72 644.832,1174.17 1056.38,902.62 1467.93,631.072 1879.48,359.524 2291.02,87.9763 \n  \"/>\n<polyline clip-path=\"url(#clip122)\" style=\"stroke:#e26f46; stroke-width:4; stroke-opacity:1; fill:none\" points=\"\n  233.284,1038.39 644.832,902.62 1056.38,766.846 1467.93,631.072 1879.48,495.298 2291.02,359.524 \n  \"/>\n<path clip-path=\"url(#clip120)\" d=\"\nM1986.67 276.658 L2280.05 276.658 L2280.05 95.2176 L1986.67 95.2176  Z\n  \" fill=\"#ffffff\" fill-rule=\"evenodd\" fill-opacity=\"1\"/>\n<polyline clip-path=\"url(#clip120)\" style=\"stroke:#000000; stroke-width:4; stroke-opacity:1; fill:none\" points=\"\n  1986.67,276.658 2280.05,276.658 2280.05,95.2176 1986.67,95.2176 1986.67,276.658 \n  \"/>\n<polyline clip-path=\"url(#clip120)\" style=\"stroke:#009af9; stroke-width:4; stroke-opacity:1; fill:none\" points=\"\n  2010.91,155.698 2156.32,155.698 \n  \"/>\n<path clip-path=\"url(#clip120)\" d=\"M 0 0 M2194.4 175.385 Q2192.6 180.015 2190.88 181.427 Q2189.17 182.839 2186.3 182.839 L2182.9 182.839 L2182.9 179.274 L2185.4 179.274 Q2187.16 179.274 2188.13 178.44 Q2189.1 177.607 2190.28 174.505 L2191.05 172.561 L2180.56 147.052 L2185.07 147.052 L2193.18 167.329 L2201.28 147.052 L2205.79 147.052 L2194.4 175.385 Z\" fill=\"#000000\" fill-rule=\"evenodd\" fill-opacity=\"1\" /><path clip-path=\"url(#clip120)\" d=\"M 0 0 M2211.67 169.042 L2219.31 169.042 L2219.31 142.677 L2211 144.343 L2211 140.084 L2219.26 138.418 L2223.94 138.418 L2223.94 169.042 L2231.58 169.042 L2231.58 172.978 L2211.67 172.978 L2211.67 169.042 Z\" fill=\"#000000\" fill-rule=\"evenodd\" fill-opacity=\"1\" /><polyline clip-path=\"url(#clip120)\" style=\"stroke:#e26f46; stroke-width:4; stroke-opacity:1; fill:none\" points=\"\n  2010.91,216.178 2156.32,216.178 \n  \"/>\n<path clip-path=\"url(#clip120)\" d=\"M 0 0 M2194.4 235.865 Q2192.6 240.495 2190.88 241.907 Q2189.17 243.319 2186.3 243.319 L2182.9 243.319 L2182.9 239.754 L2185.4 239.754 Q2187.16 239.754 2188.13 238.92 Q2189.1 238.087 2190.28 234.985 L2191.05 233.041 L2180.56 207.532 L2185.07 207.532 L2193.18 227.809 L2201.28 207.532 L2205.79 207.532 L2194.4 235.865 Z\" fill=\"#000000\" fill-rule=\"evenodd\" fill-opacity=\"1\" /><path clip-path=\"url(#clip120)\" d=\"M 0 0 M2214.89 229.522 L2231.21 229.522 L2231.21 233.458 L2209.26 233.458 L2209.26 229.522 Q2211.93 226.768 2216.51 222.138 Q2221.11 217.485 2222.3 216.143 Q2224.54 213.62 2225.42 211.884 Q2226.32 210.124 2226.32 208.435 Q2226.32 205.68 2224.38 203.944 Q2222.46 202.208 2219.36 202.208 Q2217.16 202.208 2214.7 202.972 Q2212.27 203.735 2209.49 205.286 L2209.49 200.564 Q2212.32 199.43 2214.77 198.851 Q2217.23 198.273 2219.26 198.273 Q2224.63 198.273 2227.83 200.958 Q2231.02 203.643 2231.02 208.134 Q2231.02 210.263 2230.21 212.185 Q2229.43 214.083 2227.32 216.675 Q2226.74 217.347 2223.64 220.564 Q2220.54 223.759 2214.89 229.522 Z\" fill=\"#000000\" fill-rule=\"evenodd\" fill-opacity=\"1\" /></svg>\n"
     },
     "metadata": {},
     "execution_count": 9
    }
   ],
   "source": [
    "#Instead of throwing out our old plot, we can always draw a new one on top of it\n",
    "#You can do this by using plot!()\n",
    "\n",
    "g(x) = x + 3 #let's define another function to try this out\n",
    "\n",
    "#first, plot f from 0 to 5. Note that we can make plotting even easier with ranges!\n",
    "plot(0:5,f.(0:5))\n",
    "\n",
    "#now plot g from 0 to 5, on the same graph\n",
    "plot!(0:5,g.(0:5))\n",
    "\n",
    "#note that y1 is the first plot and y2 is the second."
   ]
  },
  {
   "cell_type": "markdown",
   "metadata": {
    "deletable": false,
    "editable": false,
    "nbgrader": {
     "cell_type": "markdown",
     "checksum": "88aedb46efb07b9aea84def714ced15e",
     "grade": false,
     "grade_id": "cell-9f1a99a3704a6484",
     "locked": true,
     "schema_version": 3,
     "solution": false,
     "task": false
    }
   },
   "source": [
    "This graph shows that f(x) = 2x intersects with f(x) = x + 3 at x=3! \n",
    "### Problem 2. Practice with one of the optional systems in the Drill Problem Set\n",
    "\n",
    "                                                    x − 2y = −2\n",
    "                                                     x + y = 4\n",
    "                                                \n",
    "                                                \n",
    "                                                \n",
    "Step 1:  Rearrange Both equations so that y is isolated on the left side:\n",
    "\n",
    "Equation 1: y1 = ____________\n",
    "\n",
    "Equation 2: y2 = ____________"
   ]
  },
  {
   "cell_type": "code",
   "execution_count": 13,
   "metadata": {
    "deletable": false,
    "nbgrader": {
     "cell_type": "code",
     "checksum": "96d37de74b57efeaab99eaf498bcba3b",
     "grade": false,
     "grade_id": "problem2",
     "locked": false,
     "schema_version": 3,
     "solution": true,
     "task": false
    }
   },
   "outputs": [
    {
     "output_type": "execute_result",
     "data": {
      "image/svg+xml": "<?xml version=\"1.0\" encoding=\"utf-8\"?>\n<svg xmlns=\"http://www.w3.org/2000/svg\" xmlns:xlink=\"http://www.w3.org/1999/xlink\" width=\"600\" height=\"400\" viewBox=\"0 0 2400 1600\">\n<defs>\n  <clipPath id=\"clip240\">\n    <rect x=\"0\" y=\"0\" width=\"2400\" height=\"1600\"/>\n  </clipPath>\n</defs>\n<path clip-path=\"url(#clip240)\" d=\"\nM0 1600 L2400 1600 L2400 0 L0 0  Z\n  \" fill=\"#ffffff\" fill-rule=\"evenodd\" fill-opacity=\"1\"/>\n<defs>\n  <clipPath id=\"clip241\">\n    <rect x=\"480\" y=\"0\" width=\"1681\" height=\"1600\"/>\n  </clipPath>\n</defs>\n<path clip-path=\"url(#clip240)\" d=\"\nM112.177 1486.45 L2352.76 1486.45 L2352.76 47.2441 L112.177 47.2441  Z\n  \" fill=\"#ffffff\" fill-rule=\"evenodd\" fill-opacity=\"1\"/>\n<defs>\n  <clipPath id=\"clip242\">\n    <rect x=\"112\" y=\"47\" width=\"2242\" height=\"1440\"/>\n  </clipPath>\n</defs>\n<polyline clip-path=\"url(#clip242)\" style=\"stroke:#000000; stroke-width:2; stroke-opacity:0.1; fill:none\" points=\"\n  386.965,1486.45 386.965,47.2441 \n  \"/>\n<polyline clip-path=\"url(#clip242)\" style=\"stroke:#000000; stroke-width:2; stroke-opacity:0.1; fill:none\" points=\"\n  809.716,1486.45 809.716,47.2441 \n  \"/>\n<polyline clip-path=\"url(#clip242)\" style=\"stroke:#000000; stroke-width:2; stroke-opacity:0.1; fill:none\" points=\"\n  1232.47,1486.45 1232.47,47.2441 \n  \"/>\n<polyline clip-path=\"url(#clip242)\" style=\"stroke:#000000; stroke-width:2; stroke-opacity:0.1; fill:none\" points=\"\n  1655.22,1486.45 1655.22,47.2441 \n  \"/>\n<polyline clip-path=\"url(#clip242)\" style=\"stroke:#000000; stroke-width:2; stroke-opacity:0.1; fill:none\" points=\"\n  2077.97,1486.45 2077.97,47.2441 \n  \"/>\n<polyline clip-path=\"url(#clip242)\" style=\"stroke:#000000; stroke-width:2; stroke-opacity:0.1; fill:none\" points=\"\n  112.177,1251.75 2352.76,1251.75 \n  \"/>\n<polyline clip-path=\"url(#clip242)\" style=\"stroke:#000000; stroke-width:2; stroke-opacity:0.1; fill:none\" points=\"\n  112.177,993.136 2352.76,993.136 \n  \"/>\n<polyline clip-path=\"url(#clip242)\" style=\"stroke:#000000; stroke-width:2; stroke-opacity:0.1; fill:none\" points=\"\n  112.177,734.519 2352.76,734.519 \n  \"/>\n<polyline clip-path=\"url(#clip242)\" style=\"stroke:#000000; stroke-width:2; stroke-opacity:0.1; fill:none\" points=\"\n  112.177,475.902 2352.76,475.902 \n  \"/>\n<polyline clip-path=\"url(#clip242)\" style=\"stroke:#000000; stroke-width:2; stroke-opacity:0.1; fill:none\" points=\"\n  112.177,217.285 2352.76,217.285 \n  \"/>\n<polyline clip-path=\"url(#clip240)\" style=\"stroke:#000000; stroke-width:4; stroke-opacity:1; fill:none\" points=\"\n  112.177,1486.45 2352.76,1486.45 \n  \"/>\n<polyline clip-path=\"url(#clip240)\" style=\"stroke:#000000; stroke-width:4; stroke-opacity:1; fill:none\" points=\"\n  112.177,1486.45 112.177,47.2441 \n  \"/>\n<polyline clip-path=\"url(#clip240)\" style=\"stroke:#000000; stroke-width:4; stroke-opacity:1; fill:none\" points=\"\n  386.965,1486.45 386.965,1469.18 \n  \"/>\n<polyline clip-path=\"url(#clip240)\" style=\"stroke:#000000; stroke-width:4; stroke-opacity:1; fill:none\" points=\"\n  809.716,1486.45 809.716,1469.18 \n  \"/>\n<polyline clip-path=\"url(#clip240)\" style=\"stroke:#000000; stroke-width:4; stroke-opacity:1; fill:none\" points=\"\n  1232.47,1486.45 1232.47,1469.18 \n  \"/>\n<polyline clip-path=\"url(#clip240)\" style=\"stroke:#000000; stroke-width:4; stroke-opacity:1; fill:none\" points=\"\n  1655.22,1486.45 1655.22,1469.18 \n  \"/>\n<polyline clip-path=\"url(#clip240)\" style=\"stroke:#000000; stroke-width:4; stroke-opacity:1; fill:none\" points=\"\n  2077.97,1486.45 2077.97,1469.18 \n  \"/>\n<polyline clip-path=\"url(#clip240)\" style=\"stroke:#000000; stroke-width:4; stroke-opacity:1; fill:none\" points=\"\n  112.177,1251.75 139.064,1251.75 \n  \"/>\n<polyline clip-path=\"url(#clip240)\" style=\"stroke:#000000; stroke-width:4; stroke-opacity:1; fill:none\" points=\"\n  112.177,993.136 139.064,993.136 \n  \"/>\n<polyline clip-path=\"url(#clip240)\" style=\"stroke:#000000; stroke-width:4; stroke-opacity:1; fill:none\" points=\"\n  112.177,734.519 139.064,734.519 \n  \"/>\n<polyline clip-path=\"url(#clip240)\" style=\"stroke:#000000; stroke-width:4; stroke-opacity:1; fill:none\" points=\"\n  112.177,475.902 139.064,475.902 \n  \"/>\n<polyline clip-path=\"url(#clip240)\" style=\"stroke:#000000; stroke-width:4; stroke-opacity:1; fill:none\" points=\"\n  112.177,217.285 139.064,217.285 \n  \"/>\n<path clip-path=\"url(#clip240)\" d=\"M 0 0 M358.377 1523.09 L388.053 1523.09 L388.053 1527.03 L358.377 1527.03 L358.377 1523.09 Z\" fill=\"#000000\" fill-rule=\"evenodd\" fill-opacity=\"1\" /><path clip-path=\"url(#clip240)\" d=\"M 0 0 M405.97 1509.43 L394.164 1527.88 L405.97 1527.88 L405.97 1509.43 M404.743 1505.36 L410.622 1505.36 L410.622 1527.88 L415.553 1527.88 L415.553 1531.77 L410.622 1531.77 L410.622 1539.92 L405.97 1539.92 L405.97 1531.77 L390.368 1531.77 L390.368 1527.26 L404.743 1505.36 Z\" fill=\"#000000\" fill-rule=\"evenodd\" fill-opacity=\"1\" /><path clip-path=\"url(#clip240)\" d=\"M 0 0 M782.17 1523.09 L811.845 1523.09 L811.845 1527.03 L782.17 1527.03 L782.17 1523.09 Z\" fill=\"#000000\" fill-rule=\"evenodd\" fill-opacity=\"1\" /><path clip-path=\"url(#clip240)\" d=\"M 0 0 M820.943 1535.98 L837.262 1535.98 L837.262 1539.92 L815.318 1539.92 L815.318 1535.98 Q817.98 1533.23 822.563 1528.6 Q827.169 1523.95 828.35 1522.61 Q830.595 1520.08 831.475 1518.35 Q832.378 1516.59 832.378 1514.9 Q832.378 1512.14 830.433 1510.41 Q828.512 1508.67 825.41 1508.67 Q823.211 1508.67 820.757 1509.43 Q818.327 1510.2 815.549 1511.75 L815.549 1507.03 Q818.373 1505.89 820.827 1505.31 Q823.281 1504.73 825.318 1504.73 Q830.688 1504.73 833.882 1507.42 Q837.077 1510.11 837.077 1514.6 Q837.077 1516.73 836.267 1518.65 Q835.48 1520.54 833.373 1523.14 Q832.794 1523.81 829.693 1527.03 Q826.591 1530.22 820.943 1535.98 Z\" fill=\"#000000\" fill-rule=\"evenodd\" fill-opacity=\"1\" /><path clip-path=\"url(#clip240)\" d=\"M 0 0 M1232.47 1508.44 Q1228.86 1508.44 1227.03 1512 Q1225.22 1515.55 1225.22 1522.67 Q1225.22 1529.78 1227.03 1533.35 Q1228.86 1536.89 1232.47 1536.89 Q1236.1 1536.89 1237.91 1533.35 Q1239.74 1529.78 1239.74 1522.67 Q1239.74 1515.55 1237.91 1512 Q1236.1 1508.44 1232.47 1508.44 M1232.47 1504.73 Q1238.28 1504.73 1241.33 1509.34 Q1244.41 1513.92 1244.41 1522.67 Q1244.41 1531.4 1241.33 1536.01 Q1238.28 1540.59 1232.47 1540.59 Q1226.66 1540.59 1223.58 1536.01 Q1220.52 1531.4 1220.52 1522.67 Q1220.52 1513.92 1223.58 1509.34 Q1226.66 1504.73 1232.47 1504.73 Z\" fill=\"#000000\" fill-rule=\"evenodd\" fill-opacity=\"1\" /><path clip-path=\"url(#clip240)\" d=\"M 0 0 M1649.87 1535.98 L1666.19 1535.98 L1666.19 1539.92 L1644.25 1539.92 L1644.25 1535.98 Q1646.91 1533.23 1651.49 1528.6 Q1656.1 1523.95 1657.28 1522.61 Q1659.52 1520.08 1660.4 1518.35 Q1661.31 1516.59 1661.31 1514.9 Q1661.31 1512.14 1659.36 1510.41 Q1657.44 1508.67 1654.34 1508.67 Q1652.14 1508.67 1649.68 1509.43 Q1647.25 1510.2 1644.48 1511.75 L1644.48 1507.03 Q1647.3 1505.89 1649.75 1505.31 Q1652.21 1504.73 1654.25 1504.73 Q1659.62 1504.73 1662.81 1507.42 Q1666 1510.11 1666 1514.6 Q1666 1516.73 1665.19 1518.65 Q1664.41 1520.54 1662.3 1523.14 Q1661.72 1523.81 1658.62 1527.03 Q1655.52 1530.22 1649.87 1535.98 Z\" fill=\"#000000\" fill-rule=\"evenodd\" fill-opacity=\"1\" /><path clip-path=\"url(#clip240)\" d=\"M 0 0 M2080.98 1509.43 L2069.17 1527.88 L2080.98 1527.88 L2080.98 1509.43 M2079.75 1505.36 L2085.63 1505.36 L2085.63 1527.88 L2090.56 1527.88 L2090.56 1531.77 L2085.63 1531.77 L2085.63 1539.92 L2080.98 1539.92 L2080.98 1531.77 L2065.38 1531.77 L2065.38 1527.26 L2079.75 1505.36 Z\" fill=\"#000000\" fill-rule=\"evenodd\" fill-opacity=\"1\" /><path clip-path=\"url(#clip240)\" d=\"M 0 0 M76.2328 1237.55 Q72.6217 1237.55 70.793 1241.12 Q68.9875 1244.66 68.9875 1251.79 Q68.9875 1258.89 70.793 1262.46 Q72.6217 1266 76.2328 1266 Q79.867 1266 81.6726 1262.46 Q83.5013 1258.89 83.5013 1251.79 Q83.5013 1244.66 81.6726 1241.12 Q79.867 1237.55 76.2328 1237.55 M76.2328 1233.85 Q82.0429 1233.85 85.0985 1238.45 Q88.1772 1243.04 88.1772 1251.79 Q88.1772 1260.51 85.0985 1265.12 Q82.0429 1269.7 76.2328 1269.7 Q70.4226 1269.7 67.344 1265.12 Q64.2884 1260.51 64.2884 1251.79 Q64.2884 1243.04 67.344 1238.45 Q70.4226 1233.85 76.2328 1233.85 Z\" fill=\"#000000\" fill-rule=\"evenodd\" fill-opacity=\"1\" /><path clip-path=\"url(#clip240)\" d=\"M 0 0 M71.8578 1006.48 L88.1772 1006.48 L88.1772 1010.42 L66.2328 1010.42 L66.2328 1006.48 Q68.8949 1003.73 73.4782 999.097 Q78.0846 994.444 79.2652 993.101 Q81.5105 990.578 82.3902 988.842 Q83.2929 987.083 83.2929 985.393 Q83.2929 982.638 81.3485 980.902 Q79.4272 979.166 76.3254 979.166 Q74.1263 979.166 71.6726 979.93 Q69.2421 980.694 66.4643 982.245 L66.4643 977.523 Q69.2884 976.388 71.7421 975.81 Q74.1958 975.231 76.2328 975.231 Q81.6031 975.231 84.7976 977.916 Q87.992 980.601 87.992 985.092 Q87.992 987.222 87.1818 989.143 Q86.3948 991.041 84.2883 993.634 Q83.7096 994.305 80.6078 997.522 Q77.5059 1000.72 71.8578 1006.48 Z\" fill=\"#000000\" fill-rule=\"evenodd\" fill-opacity=\"1\" /><path clip-path=\"url(#clip240)\" d=\"M 0 0 M78.5939 721.313 L66.7884 739.762 L78.5939 739.762 L78.5939 721.313 M77.367 717.239 L83.2466 717.239 L83.2466 739.762 L88.1772 739.762 L88.1772 743.651 L83.2466 743.651 L83.2466 751.799 L78.5939 751.799 L78.5939 743.651 L62.9921 743.651 L62.9921 739.137 L77.367 717.239 Z\" fill=\"#000000\" fill-rule=\"evenodd\" fill-opacity=\"1\" /><path clip-path=\"url(#clip240)\" d=\"M 0 0 M76.6495 474.038 Q73.5013 474.038 71.6495 476.191 Q69.8208 478.344 69.8208 482.094 Q69.8208 485.821 71.6495 487.997 Q73.5013 490.149 76.6495 490.149 Q79.7976 490.149 81.6263 487.997 Q83.4781 485.821 83.4781 482.094 Q83.4781 478.344 81.6263 476.191 Q79.7976 474.038 76.6495 474.038 M85.9318 459.386 L85.9318 463.645 Q84.1726 462.812 82.367 462.372 Q80.5846 461.932 78.8254 461.932 Q74.1958 461.932 71.7421 465.057 Q69.3115 468.182 68.9643 474.501 Q70.33 472.487 72.3902 471.423 Q74.4504 470.335 76.9272 470.335 Q82.1355 470.335 85.1448 473.506 Q88.1772 476.654 88.1772 482.094 Q88.1772 487.418 85.029 490.636 Q81.8809 493.853 76.6495 493.853 Q70.6541 493.853 67.4828 489.27 Q64.3116 484.663 64.3116 475.937 Q64.3116 467.742 68.2004 462.881 Q72.0893 457.997 78.6402 457.997 Q80.3994 457.997 82.1818 458.344 Q83.9874 458.691 85.9318 459.386 Z\" fill=\"#000000\" fill-rule=\"evenodd\" fill-opacity=\"1\" /><path clip-path=\"url(#clip240)\" d=\"M 0 0 M76.3254 218.153 Q72.9921 218.153 71.0708 219.935 Q69.1726 221.718 69.1726 224.843 Q69.1726 227.968 71.0708 229.75 Q72.9921 231.532 76.3254 231.532 Q79.6587 231.532 81.58 229.75 Q83.5013 227.944 83.5013 224.843 Q83.5013 221.718 81.58 219.935 Q79.6819 218.153 76.3254 218.153 M71.6495 216.162 Q68.6402 215.421 66.9504 213.361 Q65.2838 211.301 65.2838 208.338 Q65.2838 204.195 68.2236 201.787 Q71.1865 199.38 76.3254 199.38 Q81.4874 199.38 84.4272 201.787 Q87.367 204.195 87.367 208.338 Q87.367 211.301 85.6772 213.361 Q84.0105 215.421 81.0244 216.162 Q84.404 216.949 86.279 219.241 Q88.1772 221.532 88.1772 224.843 Q88.1772 229.866 85.0985 232.551 Q82.0429 235.236 76.3254 235.236 Q70.6078 235.236 67.5291 232.551 Q64.4736 229.866 64.4736 224.843 Q64.4736 221.532 66.3717 219.241 Q68.2699 216.949 71.6495 216.162 M69.9365 208.778 Q69.9365 211.463 71.6032 212.968 Q73.293 214.472 76.3254 214.472 Q79.3346 214.472 81.0244 212.968 Q82.7374 211.463 82.7374 208.778 Q82.7374 206.093 81.0244 204.588 Q79.3346 203.083 76.3254 203.083 Q73.293 203.083 71.6032 204.588 Q69.9365 206.093 69.9365 208.778 Z\" fill=\"#000000\" fill-rule=\"evenodd\" fill-opacity=\"1\" /><polyline clip-path=\"url(#clip242)\" style=\"stroke:#009af9; stroke-width:4; stroke-opacity:1; fill:none\" points=\"\n  175.59,1445.72 386.965,1381.06 598.34,1316.41 809.716,1251.75 1021.09,1187.1 1232.47,1122.44 1443.84,1057.79 1655.22,993.136 1866.59,928.482 2077.97,863.827 \n  2289.34,799.173 \n  \"/>\n<polyline clip-path=\"url(#clip242)\" style=\"stroke:#e26f46; stroke-width:4; stroke-opacity:1; fill:none\" points=\"\n  175.59,87.9763 386.965,217.285 598.34,346.593 809.716,475.902 1021.09,605.21 1232.47,734.519 1443.84,863.827 1655.22,993.136 1866.59,1122.44 2077.97,1251.75 \n  2289.34,1381.06 \n  \"/>\n<polyline clip-path=\"url(#clip242)\" style=\"stroke:#3da44d; stroke-width:4; stroke-opacity:1; fill:none\" points=\"\n  175.59,87.9763 386.965,217.285 598.34,346.593 809.716,475.902 1021.09,605.21 1232.47,734.519 1443.84,863.827 1655.22,993.136 1866.59,1122.44 2077.97,1251.75 \n  2289.34,1381.06 \n  \"/>\n<path clip-path=\"url(#clip240)\" d=\"\nM1977.52 337.138 L2278.07 337.138 L2278.07 95.2176 L1977.52 95.2176  Z\n  \" fill=\"#ffffff\" fill-rule=\"evenodd\" fill-opacity=\"1\"/>\n<polyline clip-path=\"url(#clip240)\" style=\"stroke:#000000; stroke-width:4; stroke-opacity:1; fill:none\" points=\"\n  1977.52,337.138 2278.07,337.138 2278.07,95.2176 1977.52,95.2176 1977.52,337.138 \n  \"/>\n<polyline clip-path=\"url(#clip240)\" style=\"stroke:#009af9; stroke-width:4; stroke-opacity:1; fill:none\" points=\"\n  2002.42,155.698 2151.79,155.698 \n  \"/>\n<path clip-path=\"url(#clip240)\" d=\"M 0 0 M2190.52 175.385 Q2188.72 180.015 2187.01 181.427 Q2185.29 182.839 2182.42 182.839 L2179.02 182.839 L2179.02 179.274 L2181.52 179.274 Q2183.28 179.274 2184.25 178.44 Q2185.22 177.607 2186.4 174.505 L2187.17 172.561 L2176.68 147.052 L2181.2 147.052 L2189.3 167.329 L2197.4 147.052 L2201.91 147.052 L2190.52 175.385 Z\" fill=\"#000000\" fill-rule=\"evenodd\" fill-opacity=\"1\" /><path clip-path=\"url(#clip240)\" d=\"M 0 0 M2207.79 169.042 L2215.43 169.042 L2215.43 142.677 L2207.12 144.343 L2207.12 140.084 L2215.39 138.418 L2220.06 138.418 L2220.06 169.042 L2227.7 169.042 L2227.7 172.978 L2207.79 172.978 L2207.79 169.042 Z\" fill=\"#000000\" fill-rule=\"evenodd\" fill-opacity=\"1\" /><polyline clip-path=\"url(#clip240)\" style=\"stroke:#e26f46; stroke-width:4; stroke-opacity:1; fill:none\" points=\"\n  2002.42,216.178 2151.79,216.178 \n  \"/>\n<path clip-path=\"url(#clip240)\" d=\"M 0 0 M2190.52 235.865 Q2188.72 240.495 2187.01 241.907 Q2185.29 243.319 2182.42 243.319 L2179.02 243.319 L2179.02 239.754 L2181.52 239.754 Q2183.28 239.754 2184.25 238.92 Q2185.22 238.087 2186.4 234.985 L2187.17 233.041 L2176.68 207.532 L2181.2 207.532 L2189.3 227.809 L2197.4 207.532 L2201.91 207.532 L2190.52 235.865 Z\" fill=\"#000000\" fill-rule=\"evenodd\" fill-opacity=\"1\" /><path clip-path=\"url(#clip240)\" d=\"M 0 0 M2211.01 229.522 L2227.33 229.522 L2227.33 233.458 L2205.39 233.458 L2205.39 229.522 Q2208.05 226.768 2212.63 222.138 Q2217.24 217.485 2218.42 216.143 Q2220.66 213.62 2221.54 211.884 Q2222.45 210.124 2222.45 208.435 Q2222.45 205.68 2220.5 203.944 Q2218.58 202.208 2215.48 202.208 Q2213.28 202.208 2210.83 202.972 Q2208.4 203.735 2205.62 205.286 L2205.62 200.564 Q2208.44 199.43 2210.9 198.851 Q2213.35 198.273 2215.39 198.273 Q2220.76 198.273 2223.95 200.958 Q2227.15 203.643 2227.15 208.134 Q2227.15 210.263 2226.33 212.185 Q2225.55 214.083 2223.44 216.675 Q2222.86 217.347 2219.76 220.564 Q2216.66 223.759 2211.01 229.522 Z\" fill=\"#000000\" fill-rule=\"evenodd\" fill-opacity=\"1\" /><polyline clip-path=\"url(#clip240)\" style=\"stroke:#3da44d; stroke-width:4; stroke-opacity:1; fill:none\" points=\"\n  2002.42,276.658 2151.79,276.658 \n  \"/>\n<path clip-path=\"url(#clip240)\" d=\"M 0 0 M2190.52 296.345 Q2188.72 300.975 2187.01 302.387 Q2185.29 303.799 2182.42 303.799 L2179.02 303.799 L2179.02 300.234 L2181.52 300.234 Q2183.28 300.234 2184.25 299.4 Q2185.22 298.567 2186.4 295.465 L2187.17 293.521 L2176.68 268.012 L2181.2 268.012 L2189.3 288.289 L2197.4 268.012 L2201.91 268.012 L2190.52 296.345 Z\" fill=\"#000000\" fill-rule=\"evenodd\" fill-opacity=\"1\" /><path clip-path=\"url(#clip240)\" d=\"M 0 0 M2221.15 275.303 Q2224.51 276.021 2226.38 278.289 Q2228.28 280.558 2228.28 283.891 Q2228.28 289.007 2224.76 291.808 Q2221.24 294.609 2214.76 294.609 Q2212.58 294.609 2210.27 294.169 Q2207.98 293.752 2205.52 292.896 L2205.52 288.382 Q2207.47 289.516 2209.78 290.095 Q2212.1 290.674 2214.62 290.674 Q2219.02 290.674 2221.31 288.938 Q2223.63 287.201 2223.63 283.891 Q2223.63 280.836 2221.47 279.123 Q2219.34 277.387 2215.52 277.387 L2211.5 277.387 L2211.5 273.544 L2215.71 273.544 Q2219.16 273.544 2220.99 272.178 Q2222.82 270.79 2222.82 268.197 Q2222.82 265.535 2220.92 264.123 Q2219.04 262.688 2215.52 262.688 Q2213.6 262.688 2211.4 263.104 Q2209.21 263.521 2206.57 264.401 L2206.57 260.234 Q2209.23 259.493 2211.54 259.123 Q2213.88 258.753 2215.94 258.753 Q2221.27 258.753 2224.37 261.183 Q2227.47 263.59 2227.47 267.711 Q2227.47 270.581 2225.83 272.572 Q2224.18 274.54 2221.15 275.303 Z\" fill=\"#000000\" fill-rule=\"evenodd\" fill-opacity=\"1\" /></svg>\n"
     },
     "metadata": {},
     "execution_count": 13
    }
   ],
   "source": [
    "#declare both of those equations as code functions y1(x) and y2(x)\n",
    "\n",
    "# your code here\n",
    "y1(x) = \n",
    "y2(x) = \n",
    "\n",
    "#Plot them on the same graph.  This shows another way to plot multiple things at once.\n",
    "#Putting two vectors into brackets makes them into two columns of an array.\n",
    "#the plot() command sees each column of the inputs as separate lines to plot.\n",
    "plot(-5:5,y1.(-5:5))\n",
    "plot!(-5:5,y2.(-5:5))"
   ]
  },
  {
   "cell_type": "markdown",
   "metadata": {
    "deletable": false,
    "editable": false,
    "nbgrader": {
     "cell_type": "markdown",
     "checksum": "fc0e17f22fa7dc8690c150ef7872c7bd",
     "grade": false,
     "grade_id": "cell-f143e1884da392e8",
     "locked": true,
     "schema_version": 3,
     "solution": false,
     "task": false
    }
   },
   "source": [
    "Now that you have plotted the system, you can find the solution as the intersection of the lines!\n",
    "You could use this method to check most of your work from "
   ]
  }
 ],
 "metadata": {
  "kernelspec": {
   "display_name": "Julia 1.5.1",
   "language": "julia",
   "name": "julia-1.5"
  },
  "language_info": {
   "file_extension": ".jl",
   "mimetype": "application/julia",
   "name": "julia",
   "version": "1.5.1"
  }
 },
 "nbformat": 4,
 "nbformat_minor": 4
}