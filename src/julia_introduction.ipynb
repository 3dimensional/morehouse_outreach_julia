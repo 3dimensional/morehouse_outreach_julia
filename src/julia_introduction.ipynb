{
 "cells": [
  {
   "cell_type": "markdown",
   "metadata": {
    "deletable": false,
    "editable": false,
    "nbgrader": {
     "cell_type": "markdown",
     "checksum": "e1219b4f78c155605f762d99604b3f84",
     "grade": false,
     "grade_id": "cell-cce1441e92a92e59",
     "locked": true,
     "schema_version": 3,
     "solution": false,
     "task": false
    }
   },
   "source": [
    "Derived from University of Michigan - ROB 101 Computational Linear Algebra\n"
   ]
  },
  {
   "cell_type": "markdown",
   "metadata": {
    "deletable": false,
    "editable": false,
    "nbgrader": {
     "cell_type": "markdown",
     "checksum": "7aae1c640c508c1e900fc8476e28323c",
     "grade": false,
     "grade_id": "cell-42df9f51415be180",
     "locked": true,
     "schema_version": 3,
     "solution": false,
     "task": false
    }
   },
   "source": [
    "# Calculation, Matrices, and Graphing with Julia\n",
    "\n",
    "#### Purpose:  Use Julia Programming to solve mathematical problems\n",
    "- Outline:\n",
    "    - Calculaton with Julia\n",
    "        - Codeblocks and Operators\n",
    "        - Functions for Computation and Display\n",
    "    - Data Manipulation with Julia\n",
    "        - Variables\n",
    "        - Vectors\n",
    "        - Matrices\n",
    "        - Custom Functions\n",
    "    - Graphing with Julia\n",
    "        - Graphing Vectors\n",
    "        - Visualizing Matrices\n",
    "        - Saving Graphs (should allow us to get past some of the graphing problems)"
   ]
  },
  {
   "cell_type": "code",
   "execution_count": 18,
   "metadata": {},
   "outputs": [
    {
     "output_type": "execute_result",
     "data": {
      "text/plain": [
       "11"
      ]
     },
     "metadata": {},
     "execution_count": 18
    }
   ],
   "source": [
    "#you can edit this code block by clicking into it\n",
    "#pressing SHIFT+ENTER runs the block\n",
    "#running a code cell will display the result from the last line\n",
    "\n",
    "4+7"
   ]
  },
  {
   "cell_type": "code",
   "execution_count": 43,
   "metadata": {
    "deletable": false,
    "editable": false,
    "nbgrader": {
     "cell_type": "code",
     "checksum": "70747466541e980a4559c4f4abb4925d",
     "grade": true,
     "grade_id": "problem1test",
     "locked": true,
     "points": 5,
     "schema_version": 3,
     "solution": false,
     "task": false
    }
   },
   "outputs": [
    {
     "output_type": "execute_result",
     "data": {
      "text/plain": [
       "false"
      ]
     },
     "metadata": {},
     "execution_count": 43
    }
   ],
   "source": [
    "#other results are NOT displayed\n",
    "5 * 6\n",
    "6 / 3\n",
    "4 == 2 #this operator returns true when the two sides are equal \n"
   ]
  },
  {
   "cell_type": "code",
   "execution_count": 44,
   "metadata": {},
   "outputs": [
    {
     "output_type": "execute_result",
     "data": {
      "text/plain": [
       "false"
      ]
     },
     "metadata": {},
     "execution_count": 44
    }
   ],
   "source": [
    "#Julia performs arithmetic operations in PEMDAS order:\n",
    "#Parentheses, Exponentiation, Multiplication, Division, Addition, Subtraction\n",
    "\n",
    "#TODO: Add parentheses to make this line return true\n",
    "50 == 4 + 5 / 2 + 3 + 2 ^ 2 + 1\n"
   ]
  },
  {
   "cell_type": "code",
   "execution_count": 2,
   "metadata": {
    "deletable": false,
    "editable": false,
    "nbgrader": {
     "cell_type": "code",
     "checksum": "2c41ded914a9b5baa8601c9e784441b9",
     "grade": false,
     "grade_id": "cell-202ddea9fa3b84e7",
     "locked": true,
     "schema_version": 3,
     "solution": false,
     "task": false
    }
   },
   "outputs": [
    {
     "output_type": "execute_result",
     "data": {
      "text/plain": [
       "5"
      ]
     },
     "metadata": {},
     "execution_count": 2
    }
   ],
   "source": [
    "#operators are all actually functions in disguise!\n",
    "\n",
    "+(2,3)\n",
    "\n",
    "#still probably better to use 2 + 3 for readability"
   ]
  },
  {
   "cell_type": "markdown",
   "metadata": {
    "deletable": false,
    "editable": false,
    "nbgrader": {
     "cell_type": "markdown",
     "checksum": "848876c67a4fa7b26eb5617b67dd0a44",
     "grade": false,
     "grade_id": "cell-e700f01bf29416a2",
     "locked": true,
     "schema_version": 3,
     "solution": false,
     "task": false
    }
   },
   "source": [
    "**Julia has many other built in functions.**\n",
    "\n",
    "- round() #rounds to nearest integer\n",
    "- ceil() #rounds up\n",
    "- floor() #rounds down\n",
    "- trunc() #chops off anything beyond decimal point\n",
    "- abs() #absolute value\n",
    "- sin(), cos(), tan()  and asin(), acos(), atan()  #many more trigonometric functions\n",
    "- sqrt() #square root\n",
    "- exp()  #natural exponential e^x\n",
    "- log() #natural logarithm\n",
    "- %() #remainder after division\n",
    "\n",
    "\n",
    "and so many more: https://docs.julialang.org/en/v1/manual/mathematical-operations/\n"
   ]
  },
  {
   "cell_type": "code",
   "execution_count": 48,
   "metadata": {},
   "outputs": [
    {
     "output_type": "execute_result",
     "data": {
      "text/plain": [
       "1"
      ]
     },
     "metadata": {},
     "execution_count": 48
    }
   ],
   "source": [
    "#the modulo function calculates remainder after division\n",
    "#you can also call it like an operator for ease of use\n",
    "10 % 3"
   ]
  },
  {
   "cell_type": "code",
   "execution_count": 49,
   "metadata": {
    "deletable": false,
    "editable": false,
    "nbgrader": {
     "cell_type": "code",
     "checksum": "7b92ebf94659f47d1fed4b767662badd",
     "grade": false,
     "grade_id": "cell-c956c50b93815794",
     "locked": true,
     "schema_version": 3,
     "solution": false,
     "task": false
    }
   },
   "outputs": [
    {
     "output_type": "stream",
     "name": "stdout",
     "text": [
      "30\n2.0\n"
     ]
    },
    {
     "output_type": "execute_result",
     "data": {
      "text/plain": [
       "16"
      ]
     },
     "metadata": {},
     "execution_count": 49
    }
   ],
   "source": [
    "#display and utility functions are also available\n",
    "#to print multiple lines while running code, use println()\n",
    "println(5 * 6)\n",
    "println(6 / 3)\n",
    "4 ^ 2 #we don't need a println call here because the last line is automatically shown\n",
    "\n",
    "#...but julia adds a blank line before that output,\n",
    "#so it is probably best to call println() regardless for aesthetics.\n"
   ]
  },
  {
   "cell_type": "code",
   "execution_count": 2,
   "metadata": {},
   "outputs": [
    {
     "output_type": "stream",
     "name": "stdout",
     "text": [
      "true\n"
     ]
    },
    {
     "output_type": "execute_result",
     "data": {
      "text/plain": [
       "1.2246467991473532e-16"
      ]
     },
     "metadata": {},
     "execution_count": 2
    }
   ],
   "source": [
    "#Greek letters are supported in Julia! they're a bit annoying to type, though...\n",
    "#in julia, pi = π = 3.14159...... by default.\n",
    "println(pi == π)\n",
    "\n",
    "#trigonometric functions use radians.\n",
    "sin(π)\n",
    "#because the computer can't store data with perfect precision, this will return a number which is very close to 0.\n",
    "#that \"e-16\" is scientific notation for \" * 10^(-16)\"\n",
    "#so the absolute value of this number is around .00000000000000001. "
   ]
  },
  {
   "cell_type": "code",
   "execution_count": 35,
   "metadata": {
    "deletable": false,
    "editable": false,
    "nbgrader": {
     "cell_type": "code",
     "checksum": "fc0e6aef485da6318b27167cc054929d",
     "grade": false,
     "grade_id": "cell-fe6b0151ea814f70",
     "locked": true,
     "schema_version": 3,
     "solution": false,
     "task": false
    }
   },
   "outputs": [
    {
     "output_type": "error",
     "ename": "LoadError",
     "evalue": "MethodError: no method matching abs(::String)\nClosest candidates are:\n  abs(!Matched::Missing) at missing.jl:100\n  abs(!Matched::Pkg.Resolve.FieldValue) at D:\\buildbot\\worker\\package_win64\\build\\usr\\share\\julia\\stdlib\\v1.5\\Pkg\\src\\Resolve\\fieldvalues.jl:61\n  abs(!Matched::Float32) at float.jl:527\n  ...",
     "traceback": [
      "MethodError: no method matching abs(::String)\nClosest candidates are:\n  abs(!Matched::Missing) at missing.jl:100\n  abs(!Matched::Pkg.Resolve.FieldValue) at D:\\buildbot\\worker\\package_win64\\build\\usr\\share\\julia\\stdlib\\v1.5\\Pkg\\src\\Resolve\\fieldvalues.jl:61\n  abs(!Matched::Float32) at float.jl:527\n  ...",
      "",
      "Stacktrace:",
      " [1] top-level scope at In[35]:1",
      " [2] include_string(::Function, ::Module, ::String, ::String) at .\\loading.jl:1091"
     ]
    }
   ],
   "source": [
    "abs(\"hello\")  #uh oh\n"
   ]
  },
  {
   "cell_type": "markdown",
   "metadata": {
    "deletable": false,
    "editable": false,
    "nbgrader": {
     "cell_type": "markdown",
     "checksum": "99a5699ac0c47b54498a981c534d3b35",
     "grade": false,
     "grade_id": "cell-339b058b2acfbcad",
     "locked": true,
     "schema_version": 3,
     "solution": false,
     "task": false
    }
   },
   "source": [
    "## I'm not convinced that this type discussion needs to be in the initial tutorial. It might be enough to say that Julia keeps track of datatypes under the hood, and if you get a Type Error, you're putting a piece of data into a function which doesn't support it.\n",
    "\n",
    "\n",
    "\n",
    "\n",
    "\n",
    "\n",
    "This function doesn't work because \"hello\" is the wrong type of data.\n",
    "\n",
    "**Every piece of data in Julia has a \"Type\"**\n",
    "\n",
    "What is a data type? I think you would be comfortable saying that numbers are different from letters, so they should be treated differently when you work with them. Similary, a single letter is different than a sentence. \n",
    "\n",
    "So far, so good? \n",
    "\n",
    "Here is where programming languages are different than calculators: you may not have to think about numbers such as 1, 2, 3, 4, .... differently than 0.7, sqrt(2), pi, but Julia does have to handle them differently. \n",
    "\n",
    "Why? Just to make your life miserable? Not really. \n",
    "\n",
    "Computers have a limited amount of memory (zeros and ones) available to represent a number. If the computer knows that the number does not require a decimal point (as in -7, 0, 1, 45, etc,) then it can store it very compactly and hence store enormously large numbers of the non-decimal TYPE. If the number requires a decimal to express it properly (such as pi, sqrt(2), 0.6) then Julia will store it in a different format. In Julia, formats are determined by TYPES.\n",
    "\n",
    "We will mostly use 4 of these TYPES:\n",
    "- Int64:  Integers (numbers without decimal points in them)\n",
    "- Float64: Floating point numbers (numbers that require decimal points)\n",
    "- Char:  Any character you can type on a keyboard, or fancy characters like 复, 制, ¤, Ð, or ϐ (declared inside ' ')\n",
    "- String: A bunch of characters in a line.  (This could be a word, or a sentence, or even a number that is in \" \")\n",
    "\n",
    "You don't usually have to worry about types because Julia will automatically choose a type that works best.  But, should you get a MethodError like the one above, check which type you are using.\n",
    "\n",
    "If you want to know more about types in Julia: https://docs.julialang.org/en/v1/manual/types/"
   ]
  },
  {
   "cell_type": "markdown",
   "metadata": {
    "deletable": false,
    "editable": false,
    "nbgrader": {
     "cell_type": "markdown",
     "checksum": "fcc7852cf0889b68894276add6776a52",
     "grade": false,
     "grade_id": "cell-84ec179c1fa584c3",
     "locked": true,
     "schema_version": 3,
     "solution": false,
     "task": false
    }
   },
   "source": [
    "**Solving and graphing your own functions**\n",
    "\n",
    "Julia can also help solve any equation that you input.  There are two main ways to declare a function in Julia.\n",
    "\n",
    "Let's practice with the basic linear function:  \n",
    "                                                y = 2x \n",
    "\n",
    "The first one is the most simple:"
   ]
  },
  {
   "cell_type": "code",
   "execution_count": 6,
   "metadata": {
    "deletable": false,
    "editable": false,
    "nbgrader": {
     "cell_type": "code",
     "checksum": "7cc9b2edf24e24fbe16c03d30498c3ca",
     "grade": false,
     "grade_id": "cell-dd48daa9716b336c",
     "locked": true,
     "schema_version": 3,
     "solution": false,
     "task": false
    }
   },
   "outputs": [
    {
     "output_type": "execute_result",
     "data": {
      "text/plain": [
       "Plots.GRBackend()"
      ]
     },
     "metadata": {},
     "execution_count": 6
    }
   ],
   "source": [
    "#These lines give Julia the ability to plot functions.  This may take a while, but it is necessary.\n",
    "# When you see [*], that means Julia is working hard to do what you told it. Your commands may take just a few \n",
    "# lines, but Julia is probably dealing with multiple megabytes of files and code, all of which is hidden from us. \n",
    "using Plots\n",
    "gr()"
   ]
  },
  {
   "cell_type": "markdown",
   "metadata": {
    "deletable": false,
    "editable": false,
    "nbgrader": {
     "cell_type": "markdown",
     "checksum": "522b33b103c8a60c9f0464e68f6161ea",
     "grade": false,
     "grade_id": "cell-554847fe6f346f7d",
     "locked": true,
     "schema_version": 3,
     "solution": false,
     "task": false
    }
   },
   "source": [
    "If you are having any trouble with displaying graphs, you can use Julia's savefig() function. \n",
    "\n",
    "Navigate to the folder hosting this Notebook, and put savefig(\"name.png\") as the last line of code (where \"name.png\" is the name for the saved plot).\n",
    "\n",
    "\n",
    "Then you can manually open the saved .png via your computer's standard programs."
   ]
  },
  {
   "cell_type": "code",
   "execution_count": null,
   "metadata": {
    "deletable": false,
    "editable": false,
    "nbgrader": {
     "cell_type": "code",
     "checksum": "3cfbac9d48589a23d13cc73ab12780f4",
     "grade": true,
     "grade_id": "problem2test",
     "locked": true,
     "points": 5,
     "schema_version": 3,
     "solution": false,
     "task": false
    }
   },
   "outputs": [],
   "source": [
    "#Only run this if you want to test if savefig() is working properly.\n",
    "\n",
    "plot(1:10,1:10) #a plot\n",
    "savefig(\"test.png\")"
   ]
  },
  {
   "cell_type": "code",
   "execution_count": null,
   "metadata": {},
   "outputs": [],
   "source": [
    "#I don't think that using plot(f,start,end) is productive. Plotting y,x seems like it is much better and generalizes more easily (we're essentially using a tiny end case for the function here)\n",
    "\n",
    "#it also gives us the opportunity to talk about broadcasting and ranges.\n",
    "#since the following call is essentially plot(f.(-5:5),-5:5)\n",
    "#although that might be WAY too much.\n",
    "\n",
    "#but frankly julia isn't much without matrix manipulation so broadcasting is pretty key to explain, I think. This would also be a lot easier if they were exposed to matrices via R (and from what I can tell R is very very vector/matrix focused as well, which would make sense as a statistical analysis program)\n",
    "\n",
    "\n",
    "\n",
    "#now, we can use the plot() function\n",
    "\n",
    "\n",
    "\n",
    "\n",
    "\n",
    "plot(f, -5, 5)  #f will be plotted over an x range of -5 to 5"
   ]
  },
  {
   "cell_type": "markdown",
   "metadata": {
    "deletable": false,
    "editable": false,
    "nbgrader": {
     "cell_type": "markdown",
     "checksum": "eddc9ac9f258b9ca32a824076139cbce",
     "grade": false,
     "grade_id": "cell-e5f55ebcb0af4820",
     "locked": true,
     "schema_version": 3,
     "solution": false,
     "task": false
    }
   },
   "source": [
    "If we wanted to change an element of the graph, we need to use the function **plot!()**\n",
    "\n",
    "The exclamation point indicates that the function will modify the existing plot instead of replacing it.  Let's make the graph to scale with an aspect_ratio command, and label the axes.  You can also add an additional line to the plot.  Let's include the x-axis."
   ]
  },
  {
   "cell_type": "code",
   "execution_count": null,
   "metadata": {},
   "outputs": [],
   "source": [
    "plot!(aspect_ratio = 1, xlabel = \"x\", ylabel = \"y\")\n",
    "g(x) = 0\n",
    "plot!(g, -15,15)"
   ]
  },
  {
   "cell_type": "markdown",
   "metadata": {
    "deletable": false,
    "editable": false,
    "nbgrader": {
     "cell_type": "markdown",
     "checksum": "88aedb46efb07b9aea84def714ced15e",
     "grade": false,
     "grade_id": "cell-9f1a99a3704a6484",
     "locked": true,
     "schema_version": 3,
     "solution": false,
     "task": false
    }
   },
   "source": [
    "We can now find that y = 2x intersects y = 0 at (0,0).  \n",
    "### Problem 2. Practice with one of the systems in your HW1 Assignment\n",
    "\n",
    "                                                    x − 2y = −2\n",
    "                                                     x + y = 4\n",
    "                                                \n",
    "                                                \n",
    "                                                \n",
    "Step 1:  Rearrange Both equations so that y is isolated on the left side:\n",
    "\n",
    "Equation 1: y1 = ____________\n",
    "Equation 2: y2 = ____________"
   ]
  },
  {
   "cell_type": "code",
   "execution_count": 8,
   "metadata": {
    "deletable": false,
    "nbgrader": {
     "cell_type": "code",
     "checksum": "96d37de74b57efeaab99eaf498bcba3b",
     "grade": false,
     "grade_id": "problem2",
     "locked": false,
     "schema_version": 3,
     "solution": true,
     "task": false
    }
   },
   "outputs": [
    {
     "output_type": "execute_result",
     "data": {
      "image/svg+xml": "<?xml version=\"1.0\" encoding=\"utf-8\"?>\n<svg xmlns=\"http://www.w3.org/2000/svg\" xmlns:xlink=\"http://www.w3.org/1999/xlink\" width=\"600\" height=\"400\" viewBox=\"0 0 2400 1600\">\n<defs>\n  <clipPath id=\"clip550\">\n    <rect x=\"0\" y=\"0\" width=\"2400\" height=\"1600\"/>\n  </clipPath>\n</defs>\n<path clip-path=\"url(#clip550)\" d=\"\nM0 1600 L2400 1600 L2400 0 L0 0  Z\n  \" fill=\"#ffffff\" fill-rule=\"evenodd\" fill-opacity=\"1\"/>\n<defs>\n  <clipPath id=\"clip551\">\n    <rect x=\"480\" y=\"0\" width=\"1681\" height=\"1600\"/>\n  </clipPath>\n</defs>\n<path clip-path=\"url(#clip550)\" d=\"\nM112.177 1486.45 L2352.76 1486.45 L2352.76 47.2441 L112.177 47.2441  Z\n  \" fill=\"#ffffff\" fill-rule=\"evenodd\" fill-opacity=\"1\"/>\n<defs>\n  <clipPath id=\"clip552\">\n    <rect x=\"112\" y=\"47\" width=\"2242\" height=\"1440\"/>\n  </clipPath>\n</defs>\n<polyline clip-path=\"url(#clip552)\" style=\"stroke:#000000; stroke-width:2; stroke-opacity:0.1; fill:none\" points=\"\n  386.965,1486.45 386.965,47.2441 \n  \"/>\n<polyline clip-path=\"url(#clip552)\" style=\"stroke:#000000; stroke-width:2; stroke-opacity:0.1; fill:none\" points=\"\n  809.716,1486.45 809.716,47.2441 \n  \"/>\n<polyline clip-path=\"url(#clip552)\" style=\"stroke:#000000; stroke-width:2; stroke-opacity:0.1; fill:none\" points=\"\n  1232.47,1486.45 1232.47,47.2441 \n  \"/>\n<polyline clip-path=\"url(#clip552)\" style=\"stroke:#000000; stroke-width:2; stroke-opacity:0.1; fill:none\" points=\"\n  1655.22,1486.45 1655.22,47.2441 \n  \"/>\n<polyline clip-path=\"url(#clip552)\" style=\"stroke:#000000; stroke-width:2; stroke-opacity:0.1; fill:none\" points=\"\n  2077.97,1486.45 2077.97,47.2441 \n  \"/>\n<polyline clip-path=\"url(#clip552)\" style=\"stroke:#000000; stroke-width:2; stroke-opacity:0.1; fill:none\" points=\"\n  112.177,1251.75 2352.76,1251.75 \n  \"/>\n<polyline clip-path=\"url(#clip552)\" style=\"stroke:#000000; stroke-width:2; stroke-opacity:0.1; fill:none\" points=\"\n  112.177,993.136 2352.76,993.136 \n  \"/>\n<polyline clip-path=\"url(#clip552)\" style=\"stroke:#000000; stroke-width:2; stroke-opacity:0.1; fill:none\" points=\"\n  112.177,734.519 2352.76,734.519 \n  \"/>\n<polyline clip-path=\"url(#clip552)\" style=\"stroke:#000000; stroke-width:2; stroke-opacity:0.1; fill:none\" points=\"\n  112.177,475.902 2352.76,475.902 \n  \"/>\n<polyline clip-path=\"url(#clip552)\" style=\"stroke:#000000; stroke-width:2; stroke-opacity:0.1; fill:none\" points=\"\n  112.177,217.285 2352.76,217.285 \n  \"/>\n<polyline clip-path=\"url(#clip550)\" style=\"stroke:#000000; stroke-width:4; stroke-opacity:1; fill:none\" points=\"\n  112.177,1486.45 2352.76,1486.45 \n  \"/>\n<polyline clip-path=\"url(#clip550)\" style=\"stroke:#000000; stroke-width:4; stroke-opacity:1; fill:none\" points=\"\n  112.177,1486.45 112.177,47.2441 \n  \"/>\n<polyline clip-path=\"url(#clip550)\" style=\"stroke:#000000; stroke-width:4; stroke-opacity:1; fill:none\" points=\"\n  386.965,1486.45 386.965,1469.18 \n  \"/>\n<polyline clip-path=\"url(#clip550)\" style=\"stroke:#000000; stroke-width:4; stroke-opacity:1; fill:none\" points=\"\n  809.716,1486.45 809.716,1469.18 \n  \"/>\n<polyline clip-path=\"url(#clip550)\" style=\"stroke:#000000; stroke-width:4; stroke-opacity:1; fill:none\" points=\"\n  1232.47,1486.45 1232.47,1469.18 \n  \"/>\n<polyline clip-path=\"url(#clip550)\" style=\"stroke:#000000; stroke-width:4; stroke-opacity:1; fill:none\" points=\"\n  1655.22,1486.45 1655.22,1469.18 \n  \"/>\n<polyline clip-path=\"url(#clip550)\" style=\"stroke:#000000; stroke-width:4; stroke-opacity:1; fill:none\" points=\"\n  2077.97,1486.45 2077.97,1469.18 \n  \"/>\n<polyline clip-path=\"url(#clip550)\" style=\"stroke:#000000; stroke-width:4; stroke-opacity:1; fill:none\" points=\"\n  112.177,1251.75 139.064,1251.75 \n  \"/>\n<polyline clip-path=\"url(#clip550)\" style=\"stroke:#000000; stroke-width:4; stroke-opacity:1; fill:none\" points=\"\n  112.177,993.136 139.064,993.136 \n  \"/>\n<polyline clip-path=\"url(#clip550)\" style=\"stroke:#000000; stroke-width:4; stroke-opacity:1; fill:none\" points=\"\n  112.177,734.519 139.064,734.519 \n  \"/>\n<polyline clip-path=\"url(#clip550)\" style=\"stroke:#000000; stroke-width:4; stroke-opacity:1; fill:none\" points=\"\n  112.177,475.902 139.064,475.902 \n  \"/>\n<polyline clip-path=\"url(#clip550)\" style=\"stroke:#000000; stroke-width:4; stroke-opacity:1; fill:none\" points=\"\n  112.177,217.285 139.064,217.285 \n  \"/>\n<path clip-path=\"url(#clip550)\" d=\"M 0 0 M358.377 1523.09 L388.053 1523.09 L388.053 1527.03 L358.377 1527.03 L358.377 1523.09 Z\" fill=\"#000000\" fill-rule=\"evenodd\" fill-opacity=\"1\" /><path clip-path=\"url(#clip550)\" d=\"M 0 0 M405.97 1509.43 L394.164 1527.88 L405.97 1527.88 L405.97 1509.43 M404.743 1505.36 L410.622 1505.36 L410.622 1527.88 L415.553 1527.88 L415.553 1531.77 L410.622 1531.77 L410.622 1539.92 L405.97 1539.92 L405.97 1531.77 L390.368 1531.77 L390.368 1527.26 L404.743 1505.36 Z\" fill=\"#000000\" fill-rule=\"evenodd\" fill-opacity=\"1\" /><path clip-path=\"url(#clip550)\" d=\"M 0 0 M782.17 1523.09 L811.845 1523.09 L811.845 1527.03 L782.17 1527.03 L782.17 1523.09 Z\" fill=\"#000000\" fill-rule=\"evenodd\" fill-opacity=\"1\" /><path clip-path=\"url(#clip550)\" d=\"M 0 0 M820.943 1535.98 L837.262 1535.98 L837.262 1539.92 L815.318 1539.92 L815.318 1535.98 Q817.98 1533.23 822.563 1528.6 Q827.169 1523.95 828.35 1522.61 Q830.595 1520.08 831.475 1518.35 Q832.378 1516.59 832.378 1514.9 Q832.378 1512.14 830.433 1510.41 Q828.512 1508.67 825.41 1508.67 Q823.211 1508.67 820.757 1509.43 Q818.327 1510.2 815.549 1511.75 L815.549 1507.03 Q818.373 1505.89 820.827 1505.31 Q823.281 1504.73 825.318 1504.73 Q830.688 1504.73 833.882 1507.42 Q837.077 1510.11 837.077 1514.6 Q837.077 1516.73 836.267 1518.65 Q835.48 1520.54 833.373 1523.14 Q832.794 1523.81 829.693 1527.03 Q826.591 1530.22 820.943 1535.98 Z\" fill=\"#000000\" fill-rule=\"evenodd\" fill-opacity=\"1\" /><path clip-path=\"url(#clip550)\" d=\"M 0 0 M1232.47 1508.44 Q1228.86 1508.44 1227.03 1512 Q1225.22 1515.55 1225.22 1522.67 Q1225.22 1529.78 1227.03 1533.35 Q1228.86 1536.89 1232.47 1536.89 Q1236.1 1536.89 1237.91 1533.35 Q1239.74 1529.78 1239.74 1522.67 Q1239.74 1515.55 1237.91 1512 Q1236.1 1508.44 1232.47 1508.44 M1232.47 1504.73 Q1238.28 1504.73 1241.33 1509.34 Q1244.41 1513.92 1244.41 1522.67 Q1244.41 1531.4 1241.33 1536.01 Q1238.28 1540.59 1232.47 1540.59 Q1226.66 1540.59 1223.58 1536.01 Q1220.52 1531.4 1220.52 1522.67 Q1220.52 1513.92 1223.58 1509.34 Q1226.66 1504.73 1232.47 1504.73 Z\" fill=\"#000000\" fill-rule=\"evenodd\" fill-opacity=\"1\" /><path clip-path=\"url(#clip550)\" d=\"M 0 0 M1649.87 1535.98 L1666.19 1535.98 L1666.19 1539.92 L1644.25 1539.92 L1644.25 1535.98 Q1646.91 1533.23 1651.49 1528.6 Q1656.1 1523.95 1657.28 1522.61 Q1659.52 1520.08 1660.4 1518.35 Q1661.31 1516.59 1661.31 1514.9 Q1661.31 1512.14 1659.36 1510.41 Q1657.44 1508.67 1654.34 1508.67 Q1652.14 1508.67 1649.68 1509.43 Q1647.25 1510.2 1644.48 1511.75 L1644.48 1507.03 Q1647.3 1505.89 1649.75 1505.31 Q1652.21 1504.73 1654.25 1504.73 Q1659.62 1504.73 1662.81 1507.42 Q1666 1510.11 1666 1514.6 Q1666 1516.73 1665.19 1518.65 Q1664.41 1520.54 1662.3 1523.14 Q1661.72 1523.81 1658.62 1527.03 Q1655.52 1530.22 1649.87 1535.98 Z\" fill=\"#000000\" fill-rule=\"evenodd\" fill-opacity=\"1\" /><path clip-path=\"url(#clip550)\" d=\"M 0 0 M2080.98 1509.43 L2069.17 1527.88 L2080.98 1527.88 L2080.98 1509.43 M2079.75 1505.36 L2085.63 1505.36 L2085.63 1527.88 L2090.56 1527.88 L2090.56 1531.77 L2085.63 1531.77 L2085.63 1539.92 L2080.98 1539.92 L2080.98 1531.77 L2065.38 1531.77 L2065.38 1527.26 L2079.75 1505.36 Z\" fill=\"#000000\" fill-rule=\"evenodd\" fill-opacity=\"1\" /><path clip-path=\"url(#clip550)\" d=\"M 0 0 M76.2328 1237.55 Q72.6217 1237.55 70.793 1241.12 Q68.9875 1244.66 68.9875 1251.79 Q68.9875 1258.89 70.793 1262.46 Q72.6217 1266 76.2328 1266 Q79.867 1266 81.6726 1262.46 Q83.5013 1258.89 83.5013 1251.79 Q83.5013 1244.66 81.6726 1241.12 Q79.867 1237.55 76.2328 1237.55 M76.2328 1233.85 Q82.0429 1233.85 85.0985 1238.45 Q88.1772 1243.04 88.1772 1251.79 Q88.1772 1260.51 85.0985 1265.12 Q82.0429 1269.7 76.2328 1269.7 Q70.4226 1269.7 67.344 1265.12 Q64.2884 1260.51 64.2884 1251.79 Q64.2884 1243.04 67.344 1238.45 Q70.4226 1233.85 76.2328 1233.85 Z\" fill=\"#000000\" fill-rule=\"evenodd\" fill-opacity=\"1\" /><path clip-path=\"url(#clip550)\" d=\"M 0 0 M71.8578 1006.48 L88.1772 1006.48 L88.1772 1010.42 L66.2328 1010.42 L66.2328 1006.48 Q68.8949 1003.73 73.4782 999.097 Q78.0846 994.444 79.2652 993.101 Q81.5105 990.578 82.3902 988.842 Q83.2929 987.083 83.2929 985.393 Q83.2929 982.638 81.3485 980.902 Q79.4272 979.166 76.3254 979.166 Q74.1263 979.166 71.6726 979.93 Q69.2421 980.694 66.4643 982.245 L66.4643 977.523 Q69.2884 976.388 71.7421 975.81 Q74.1958 975.231 76.2328 975.231 Q81.6031 975.231 84.7976 977.916 Q87.992 980.601 87.992 985.092 Q87.992 987.222 87.1818 989.143 Q86.3948 991.041 84.2883 993.634 Q83.7096 994.305 80.6078 997.522 Q77.5059 1000.72 71.8578 1006.48 Z\" fill=\"#000000\" fill-rule=\"evenodd\" fill-opacity=\"1\" /><path clip-path=\"url(#clip550)\" d=\"M 0 0 M78.5939 721.313 L66.7884 739.762 L78.5939 739.762 L78.5939 721.313 M77.367 717.239 L83.2466 717.239 L83.2466 739.762 L88.1772 739.762 L88.1772 743.651 L83.2466 743.651 L83.2466 751.799 L78.5939 751.799 L78.5939 743.651 L62.9921 743.651 L62.9921 739.137 L77.367 717.239 Z\" fill=\"#000000\" fill-rule=\"evenodd\" fill-opacity=\"1\" /><path clip-path=\"url(#clip550)\" d=\"M 0 0 M76.6495 474.038 Q73.5013 474.038 71.6495 476.191 Q69.8208 478.344 69.8208 482.094 Q69.8208 485.821 71.6495 487.997 Q73.5013 490.149 76.6495 490.149 Q79.7976 490.149 81.6263 487.997 Q83.4781 485.821 83.4781 482.094 Q83.4781 478.344 81.6263 476.191 Q79.7976 474.038 76.6495 474.038 M85.9318 459.386 L85.9318 463.645 Q84.1726 462.812 82.367 462.372 Q80.5846 461.932 78.8254 461.932 Q74.1958 461.932 71.7421 465.057 Q69.3115 468.182 68.9643 474.501 Q70.33 472.487 72.3902 471.423 Q74.4504 470.335 76.9272 470.335 Q82.1355 470.335 85.1448 473.506 Q88.1772 476.654 88.1772 482.094 Q88.1772 487.418 85.029 490.636 Q81.8809 493.853 76.6495 493.853 Q70.6541 493.853 67.4828 489.27 Q64.3116 484.663 64.3116 475.937 Q64.3116 467.742 68.2004 462.881 Q72.0893 457.997 78.6402 457.997 Q80.3994 457.997 82.1818 458.344 Q83.9874 458.691 85.9318 459.386 Z\" fill=\"#000000\" fill-rule=\"evenodd\" fill-opacity=\"1\" /><path clip-path=\"url(#clip550)\" d=\"M 0 0 M76.3254 218.153 Q72.9921 218.153 71.0708 219.935 Q69.1726 221.718 69.1726 224.843 Q69.1726 227.968 71.0708 229.75 Q72.9921 231.532 76.3254 231.532 Q79.6587 231.532 81.58 229.75 Q83.5013 227.944 83.5013 224.843 Q83.5013 221.718 81.58 219.935 Q79.6819 218.153 76.3254 218.153 M71.6495 216.162 Q68.6402 215.421 66.9504 213.361 Q65.2838 211.301 65.2838 208.338 Q65.2838 204.195 68.2236 201.787 Q71.1865 199.38 76.3254 199.38 Q81.4874 199.38 84.4272 201.787 Q87.367 204.195 87.367 208.338 Q87.367 211.301 85.6772 213.361 Q84.0105 215.421 81.0244 216.162 Q84.404 216.949 86.279 219.241 Q88.1772 221.532 88.1772 224.843 Q88.1772 229.866 85.0985 232.551 Q82.0429 235.236 76.3254 235.236 Q70.6078 235.236 67.5291 232.551 Q64.4736 229.866 64.4736 224.843 Q64.4736 221.532 66.3717 219.241 Q68.2699 216.949 71.6495 216.162 M69.9365 208.778 Q69.9365 211.463 71.6032 212.968 Q73.293 214.472 76.3254 214.472 Q79.3346 214.472 81.0244 212.968 Q82.7374 211.463 82.7374 208.778 Q82.7374 206.093 81.0244 204.588 Q79.3346 203.083 76.3254 203.083 Q73.293 203.083 71.6032 204.588 Q69.9365 206.093 69.9365 208.778 Z\" fill=\"#000000\" fill-rule=\"evenodd\" fill-opacity=\"1\" /><polyline clip-path=\"url(#clip552)\" style=\"stroke:#009af9; stroke-width:4; stroke-opacity:1; fill:none\" points=\"\n  175.59,1445.72 196.232,1439.4 387.102,1381.02 501.807,1345.93 598.789,1316.27 704.138,1284.05 801.261,1254.34 905.386,1222.49 1026.03,1185.59 1133.24,1152.8 \n  1227.25,1124.04 1329.75,1092.69 1432.86,1061.15 1546.86,1026.28 1655.33,993.101 1768.11,958.604 1863.05,929.565 1978.96,894.111 2087.92,860.783 2262.48,807.39 \n  2289.34,799.173 \n  \"/>\n<polyline clip-path=\"url(#clip552)\" style=\"stroke:#e26f46; stroke-width:4; stroke-opacity:1; fill:none\" points=\"\n  175.59,87.9763 196.232,100.604 387.102,217.369 501.807,287.539 598.789,346.868 704.138,411.315 801.261,470.729 905.386,534.428 1026.03,608.229 1133.24,673.815 \n  1227.25,731.328 1329.75,794.032 1432.86,857.11 1546.86,926.849 1655.33,993.205 1768.11,1062.2 1863.05,1120.28 1978.96,1191.19 2087.92,1257.84 2262.48,1364.63 \n  2289.34,1381.06 \n  \"/>\n<path clip-path=\"url(#clip550)\" d=\"\nM1978.1 276.658 L2278.07 276.658 L2278.07 95.2176 L1978.1 95.2176  Z\n  \" fill=\"#ffffff\" fill-rule=\"evenodd\" fill-opacity=\"1\"/>\n<polyline clip-path=\"url(#clip550)\" style=\"stroke:#000000; stroke-width:4; stroke-opacity:1; fill:none\" points=\"\n  1978.1,276.658 2278.07,276.658 2278.07,95.2176 1978.1,95.2176 1978.1,276.658 \n  \"/>\n<polyline clip-path=\"url(#clip550)\" style=\"stroke:#009af9; stroke-width:4; stroke-opacity:1; fill:none\" points=\"\n  2002.99,155.698 2152.37,155.698 \n  \"/>\n<path clip-path=\"url(#clip550)\" d=\"M 0 0 M2191.1 175.385 Q2189.3 180.015 2187.59 181.427 Q2185.87 182.839 2183 182.839 L2179.6 182.839 L2179.6 179.274 L2182.1 179.274 Q2183.86 179.274 2184.83 178.44 Q2185.8 177.607 2186.98 174.505 L2187.75 172.561 L2177.26 147.052 L2181.77 147.052 L2189.88 167.329 L2197.98 147.052 L2202.49 147.052 L2191.1 175.385 Z\" fill=\"#000000\" fill-rule=\"evenodd\" fill-opacity=\"1\" /><path clip-path=\"url(#clip550)\" d=\"M 0 0 M2208.37 169.042 L2216.01 169.042 L2216.01 142.677 L2207.7 144.343 L2207.7 140.084 L2215.96 138.418 L2220.64 138.418 L2220.64 169.042 L2228.28 169.042 L2228.28 172.978 L2208.37 172.978 L2208.37 169.042 Z\" fill=\"#000000\" fill-rule=\"evenodd\" fill-opacity=\"1\" /><polyline clip-path=\"url(#clip550)\" style=\"stroke:#e26f46; stroke-width:4; stroke-opacity:1; fill:none\" points=\"\n  2002.99,216.178 2152.37,216.178 \n  \"/>\n<path clip-path=\"url(#clip550)\" d=\"M 0 0 M2191.1 235.865 Q2189.3 240.495 2187.59 241.907 Q2185.87 243.319 2183 243.319 L2179.6 243.319 L2179.6 239.754 L2182.1 239.754 Q2183.86 239.754 2184.83 238.92 Q2185.8 238.087 2186.98 234.985 L2187.75 233.041 L2177.26 207.532 L2181.77 207.532 L2189.88 227.809 L2197.98 207.532 L2202.49 207.532 L2191.1 235.865 Z\" fill=\"#000000\" fill-rule=\"evenodd\" fill-opacity=\"1\" /><path clip-path=\"url(#clip550)\" d=\"M 0 0 M2211.59 229.522 L2227.91 229.522 L2227.91 233.458 L2205.96 233.458 L2205.96 229.522 Q2208.63 226.768 2213.21 222.138 Q2217.82 217.485 2219 216.143 Q2221.24 213.62 2222.12 211.884 Q2223.02 210.124 2223.02 208.435 Q2223.02 205.68 2221.08 203.944 Q2219.16 202.208 2216.06 202.208 Q2213.86 202.208 2211.4 202.972 Q2208.97 203.735 2206.2 205.286 L2206.2 200.564 Q2209.02 199.43 2211.47 198.851 Q2213.93 198.273 2215.96 198.273 Q2221.33 198.273 2224.53 200.958 Q2227.72 203.643 2227.72 208.134 Q2227.72 210.263 2226.91 212.185 Q2226.13 214.083 2224.02 216.675 Q2223.44 217.347 2220.34 220.564 Q2217.24 223.759 2211.59 229.522 Z\" fill=\"#000000\" fill-rule=\"evenodd\" fill-opacity=\"1\" /></svg>\n"
     },
     "metadata": {},
     "execution_count": 8
    }
   ],
   "source": [
    "#now declare both of those equations as code functions y1(x) and y2(x)\n",
    "\n",
    "# your code here\n",
    "y1(x) = 1 + x/2\n",
    "y2(x) = 4-x\n",
    "\n",
    "#Plot them on the same graph.  This shows another way to plot multiple things at once\n",
    "plot([y1,y2], -5, 5)"
   ]
  },
  {
   "cell_type": "markdown",
   "metadata": {
    "deletable": false,
    "editable": false,
    "nbgrader": {
     "cell_type": "markdown",
     "checksum": "fc0e17f22fa7dc8690c150ef7872c7bd",
     "grade": false,
     "grade_id": "cell-f143e1884da392e8",
     "locked": true,
     "schema_version": 3,
     "solution": false,
     "task": false
    }
   },
   "source": [
    "Now that you have plotted the system, you can find the solution as the intersection of the lines.  Pretty neat!"
   ]
  }
 ],
 "metadata": {
  "kernelspec": {
   "display_name": "Julia 1.5.1",
   "language": "julia",
   "name": "julia-1.5"
  },
  "language_info": {
   "file_extension": ".jl",
   "mimetype": "application/julia",
   "name": "julia",
   "version": "1.5.0"
  }
 },
 "nbformat": 4,
 "nbformat_minor": 4
}